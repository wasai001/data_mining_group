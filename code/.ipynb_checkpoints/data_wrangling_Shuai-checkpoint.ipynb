{
 "cells": [
  {
   "cell_type": "markdown",
   "metadata": {},
   "source": [
    "# Load the packages and self-defined functions"
   ]
  },
  {
   "cell_type": "code",
   "execution_count": 1,
   "metadata": {},
   "outputs": [],
   "source": [
    "import pandas as pd\n",
    "import seaborn as sns\n",
    "import matplotlib.pyplot as plt\n",
    "import numpy as np"
   ]
  },
  {
   "cell_type": "code",
   "execution_count": 2,
   "metadata": {},
   "outputs": [],
   "source": [
    "# Pre-define Functions\n",
    "def sumMissing(df):\n",
    "    col_name_1 = str(df)+\"Count\"\n",
    "    col_name_2 = str(df)+\"Percentage\"\n",
    "    countMissing = df.isnull().sum()\n",
    "    percentMissing = df.isnull().mean().round(4) * 100\n",
    "    result = pd.concat([countMissing, percentMissing], axis=1)\n",
    "    #result = result.rename(columns={0: col_name_1, 1: col_name_2})\n",
    "    return(result)\n",
    "\n",
    "def horzBarPlot(df,x,y):\n",
    "    a4_dims = (11.7, 8.27)\n",
    "    fig, ax = plt.subplots(figsize=a4_dims)\n",
    "    ax = sns.barplot(x=x, y=y, data=df)\n",
    "\n",
    "def compareDF(df1,df2):\n",
    "    return(df1.join(df2.set_index('index'), on='index'))\n",
    "\n",
    "def fillAirfare(df,separateCol,groupCol):\n",
    "    # Split the dataframe\n",
    "    nullAirfare = df[df['Airfare'].isnull()]\n",
    "    df_splited = df[df['Airfare'].notnull()]\n",
    "    \n",
    "    # Calculate the median airfare\n",
    "    medianAirfare = df[separateCol].groupby(groupCol).median().reset_index()\n",
    "    \n",
    "    # Merge the missing airfare with the median airfare\n",
    "    fillMissingAirfare = pd.merge(nullAirfare, medianAirfare,  how='left', left_on=groupCol, right_on = groupCol)\n",
    "    fillMissingAirfare = fillMissingAirfare.drop(columns=['Airfare_x'])\n",
    "    fillMissingAirfare = fillMissingAirfare.rename(columns={'Airfare_y': 'Airfare'})\n",
    "    \n",
    "    df = df_splited.append(fillMissingAirfare,sort=False)\n",
    "    df = df.sort_values('ID')\n",
    "    df = df.reset_index()\n",
    "    df = df.drop(columns = ['index'])\n",
    "    return(df)\n",
    "\n",
    "def fillAccessCost(df,separateCol,groupCol):\n",
    "    # Split the dataframe\n",
    "    nullAccessCost = df[df['AccessCost'].isnull()]\n",
    "    df_splited = df[df['AccessCost'].notnull()]\n",
    "    # Calculate the median access cost\n",
    "    medianAccessCost = df[separateCol].groupby(groupCol).median().reset_index()\n",
    "    # Merge the missing access cost with the median access cost\n",
    "    fillMissingAccessCost = pd.merge(nullAccessCost, medianAccessCost,  how='left', left_on=groupCol, right_on=groupCol)\n",
    "    fillMissingAccessCost = fillMissingAccessCost.drop(columns=['AccessCost_x'])\n",
    "    fillMissingAccessCost = fillMissingAccessCost.rename(columns={'AccessCost_y': 'AccessCost'})\n",
    "    \n",
    "    df = df_splited.append(fillMissingAccessCost,sort=False)\n",
    "    df = df.sort_values('ID')\n",
    "    df = df.reset_index()\n",
    "    df = df.drop(columns = ['index'])\n",
    "    return(df)\n",
    "\n",
    "def fillAccessTime(df,separateCol,groupCol):\n",
    "    # Split the dataframe\n",
    "    nullAccessTime = df[df['AccessTime'].isnull()]\n",
    "    df_splited = df[df['AccessTime'].notnull()]\n",
    "    # Calculate the median access Time\n",
    "    medianAccessTime = df[separateCol].groupby(groupCol).median().reset_index()\n",
    "    # Merge the missing access Time with the median access Time\n",
    "    fillMissingAccessTime = pd.merge(nullAccessTime, medianAccessTime,  how='left', left_on=groupCol, right_on=groupCol)\n",
    "    fillMissingAccessTime = fillMissingAccessTime.drop(columns=['AccessTime_x'])\n",
    "    fillMissingAccessTime = fillMissingAccessTime.rename(columns={'AccessTime_y': 'AccessTime'})\n",
    "    \n",
    "    df = df_splited.append(fillMissingAccessTime,sort=False)\n",
    "    df = df.sort_values('ID')\n",
    "    df = df.reset_index()\n",
    "    df = df.drop(columns = ['index'])\n",
    "    return(df)\n",
    "\n",
    "def fillIncome(df,separateCol,groupCol):\n",
    "    # Split the dataframe\n",
    "    nullIncome = df[df['Income'].isnull()]\n",
    "    df_splited = df[df['Income'].notnull()]\n",
    "    # Calculate the median access Time\n",
    "    medianIncome = df[separateCol].groupby(groupCol).median().reset_index()\n",
    "    # Merge the missing access Time with the median access Time\n",
    "    fillMissingIncome = pd.merge(nullIncome, medianIncome,  how='left', left_on=groupCol, right_on=groupCol)\n",
    "    fillMissingIncome = fillMissingIncome.drop(columns=['Income_x'])\n",
    "    fillMissingIncome = fillMissingIncome.rename(columns={'Income_y': 'Income'})\n",
    "    \n",
    "    df = df_splited.append(fillMissingIncome,sort=False)\n",
    "    df = df.sort_values('ID')\n",
    "    df = df.reset_index()\n",
    "    df = df.drop(columns = ['index'])\n",
    "    return(df)"
   ]
  },
  {
   "cell_type": "markdown",
   "metadata": {},
   "source": [
    "# Step Preview\n",
    "1. Load Data \n",
    "2. Check Missing Values\n",
    "3. Deal with Missing Values\n",
    "4. Check Missing Values Again \n",
    "5. EDA - Single Variable \n",
    "6. EDA - Multi Variable \n",
    "7. Variable Selection - Best Subset(R | Y - Airport)\n",
    "8. Logit Regression(Y - Airport) With Select Variables (Interpretate coefficient)\n",
    "9. Decision Tree (Interpretate Tree)\n",
    "9. Multiple Choice Regression"
   ]
  },
  {
   "cell_type": "markdown",
   "metadata": {},
   "source": [
    "# Load the data"
   ]
  },
  {
   "cell_type": "code",
   "execution_count": 3,
   "metadata": {},
   "outputs": [],
   "source": [
    "df_raw = pd.read_csv('../data/airport_choice_survey_practice_Shuai.csv')"
   ]
  },
  {
   "cell_type": "markdown",
   "metadata": {},
   "source": [
    "# Deal with Missing Values"
   ]
  },
  {
   "cell_type": "markdown",
   "metadata": {},
   "source": [
    "## Checking Missing Values"
   ]
  },
  {
   "cell_type": "code",
   "execution_count": 4,
   "metadata": {
    "scrolled": false
   },
   "outputs": [
    {
     "data": {
      "text/html": [
       "<div>\n",
       "<style scoped>\n",
       "    .dataframe tbody tr th:only-of-type {\n",
       "        vertical-align: middle;\n",
       "    }\n",
       "\n",
       "    .dataframe tbody tr th {\n",
       "        vertical-align: top;\n",
       "    }\n",
       "\n",
       "    .dataframe thead th {\n",
       "        text-align: right;\n",
       "    }\n",
       "</style>\n",
       "<table border=\"1\" class=\"dataframe\">\n",
       "  <thead>\n",
       "    <tr style=\"text-align: right;\">\n",
       "      <th></th>\n",
       "      <th>index</th>\n",
       "      <th>rawCount</th>\n",
       "      <th>rawPercentage</th>\n",
       "    </tr>\n",
       "  </thead>\n",
       "  <tbody>\n",
       "    <tr>\n",
       "      <th>0</th>\n",
       "      <td>ID</td>\n",
       "      <td>0</td>\n",
       "      <td>0.00</td>\n",
       "    </tr>\n",
       "    <tr>\n",
       "      <th>1</th>\n",
       "      <td>Airport</td>\n",
       "      <td>0</td>\n",
       "      <td>0.00</td>\n",
       "    </tr>\n",
       "    <tr>\n",
       "      <th>2</th>\n",
       "      <td>Airline</td>\n",
       "      <td>10</td>\n",
       "      <td>2.05</td>\n",
       "    </tr>\n",
       "    <tr>\n",
       "      <th>3</th>\n",
       "      <td>Age</td>\n",
       "      <td>1</td>\n",
       "      <td>0.20</td>\n",
       "    </tr>\n",
       "    <tr>\n",
       "      <th>4</th>\n",
       "      <td>Gender</td>\n",
       "      <td>3</td>\n",
       "      <td>0.61</td>\n",
       "    </tr>\n",
       "    <tr>\n",
       "      <th>5</th>\n",
       "      <td>Nationality</td>\n",
       "      <td>0</td>\n",
       "      <td>0.00</td>\n",
       "    </tr>\n",
       "    <tr>\n",
       "      <th>6</th>\n",
       "      <td>TripPurpose</td>\n",
       "      <td>0</td>\n",
       "      <td>0.00</td>\n",
       "    </tr>\n",
       "    <tr>\n",
       "      <th>7</th>\n",
       "      <td>TripDuration</td>\n",
       "      <td>0</td>\n",
       "      <td>0.00</td>\n",
       "    </tr>\n",
       "    <tr>\n",
       "      <th>8</th>\n",
       "      <td>FlyingCompanion</td>\n",
       "      <td>0</td>\n",
       "      <td>0.00</td>\n",
       "    </tr>\n",
       "    <tr>\n",
       "      <th>9</th>\n",
       "      <td>ProvinceResidence</td>\n",
       "      <td>0</td>\n",
       "      <td>0.00</td>\n",
       "    </tr>\n",
       "    <tr>\n",
       "      <th>10</th>\n",
       "      <td>GroupTravel</td>\n",
       "      <td>0</td>\n",
       "      <td>0.00</td>\n",
       "    </tr>\n",
       "    <tr>\n",
       "      <th>11</th>\n",
       "      <td>NoTripsLastYear</td>\n",
       "      <td>0</td>\n",
       "      <td>0.00</td>\n",
       "    </tr>\n",
       "    <tr>\n",
       "      <th>12</th>\n",
       "      <td>FrequentFlightDestination</td>\n",
       "      <td>0</td>\n",
       "      <td>0.00</td>\n",
       "    </tr>\n",
       "    <tr>\n",
       "      <th>13</th>\n",
       "      <td>Destination</td>\n",
       "      <td>5</td>\n",
       "      <td>1.02</td>\n",
       "    </tr>\n",
       "    <tr>\n",
       "      <th>14</th>\n",
       "      <td>FlightNo</td>\n",
       "      <td>142</td>\n",
       "      <td>29.10</td>\n",
       "    </tr>\n",
       "    <tr>\n",
       "      <th>15</th>\n",
       "      <td>DepartureHr</td>\n",
       "      <td>33</td>\n",
       "      <td>6.76</td>\n",
       "    </tr>\n",
       "    <tr>\n",
       "      <th>16</th>\n",
       "      <td>DepartureMn</td>\n",
       "      <td>120</td>\n",
       "      <td>24.59</td>\n",
       "    </tr>\n",
       "    <tr>\n",
       "      <th>17</th>\n",
       "      <td>DepartureTime</td>\n",
       "      <td>0</td>\n",
       "      <td>0.00</td>\n",
       "    </tr>\n",
       "    <tr>\n",
       "      <th>18</th>\n",
       "      <td>SeatClass</td>\n",
       "      <td>4</td>\n",
       "      <td>0.82</td>\n",
       "    </tr>\n",
       "    <tr>\n",
       "      <th>19</th>\n",
       "      <td>Airfare</td>\n",
       "      <td>155</td>\n",
       "      <td>31.76</td>\n",
       "    </tr>\n",
       "    <tr>\n",
       "      <th>20</th>\n",
       "      <td>NoTransport</td>\n",
       "      <td>0</td>\n",
       "      <td>0.00</td>\n",
       "    </tr>\n",
       "    <tr>\n",
       "      <th>21</th>\n",
       "      <td>ModeTransport</td>\n",
       "      <td>0</td>\n",
       "      <td>0.00</td>\n",
       "    </tr>\n",
       "    <tr>\n",
       "      <th>22</th>\n",
       "      <td>AccessCost</td>\n",
       "      <td>197</td>\n",
       "      <td>40.37</td>\n",
       "    </tr>\n",
       "    <tr>\n",
       "      <th>23</th>\n",
       "      <td>AccessTime</td>\n",
       "      <td>97</td>\n",
       "      <td>19.88</td>\n",
       "    </tr>\n",
       "    <tr>\n",
       "      <th>24</th>\n",
       "      <td>Occupation</td>\n",
       "      <td>0</td>\n",
       "      <td>0.00</td>\n",
       "    </tr>\n",
       "    <tr>\n",
       "      <th>25</th>\n",
       "      <td>Income</td>\n",
       "      <td>132</td>\n",
       "      <td>27.05</td>\n",
       "    </tr>\n",
       "    <tr>\n",
       "      <th>26</th>\n",
       "      <td>MileageAirline</td>\n",
       "      <td>237</td>\n",
       "      <td>48.57</td>\n",
       "    </tr>\n",
       "    <tr>\n",
       "      <th>27</th>\n",
       "      <td>Mileage</td>\n",
       "      <td>398</td>\n",
       "      <td>81.56</td>\n",
       "    </tr>\n",
       "  </tbody>\n",
       "</table>\n",
       "</div>"
      ],
      "text/plain": [
       "                        index  rawCount  rawPercentage\n",
       "0                          ID         0           0.00\n",
       "1                     Airport         0           0.00\n",
       "2                     Airline        10           2.05\n",
       "3                         Age         1           0.20\n",
       "4                      Gender         3           0.61\n",
       "5                 Nationality         0           0.00\n",
       "6                 TripPurpose         0           0.00\n",
       "7                TripDuration         0           0.00\n",
       "8             FlyingCompanion         0           0.00\n",
       "9           ProvinceResidence         0           0.00\n",
       "10                GroupTravel         0           0.00\n",
       "11            NoTripsLastYear         0           0.00\n",
       "12  FrequentFlightDestination         0           0.00\n",
       "13                Destination         5           1.02\n",
       "14                   FlightNo       142          29.10\n",
       "15                DepartureHr        33           6.76\n",
       "16                DepartureMn       120          24.59\n",
       "17              DepartureTime         0           0.00\n",
       "18                  SeatClass         4           0.82\n",
       "19                    Airfare       155          31.76\n",
       "20                NoTransport         0           0.00\n",
       "21              ModeTransport         0           0.00\n",
       "22                 AccessCost       197          40.37\n",
       "23                 AccessTime        97          19.88\n",
       "24                 Occupation         0           0.00\n",
       "25                     Income       132          27.05\n",
       "26             MileageAirline       237          48.57\n",
       "27                    Mileage       398          81.56"
      ]
     },
     "execution_count": 4,
     "metadata": {},
     "output_type": "execute_result"
    }
   ],
   "source": [
    "missingValueRaw = sumMissing(df_raw).rename(columns={0: 'rawCount', 1: 'rawPercentage'})\n",
    "missingValueRaw = missingValueRaw.reset_index()\n",
    "missingValueRaw"
   ]
  },
  {
   "cell_type": "code",
   "execution_count": 5,
   "metadata": {
    "scrolled": false
   },
   "outputs": [
    {
     "data": {
      "image/png": "[encoded data removed]",
      "text/plain": [
       "<Figure size 842.4x595.44 with 1 Axes>"
      ]
     },
     "metadata": {
      "needs_background": "light"
     },
     "output_type": "display_data"
    }
   ],
   "source": [
    "horzBarPlot(missingValueRaw,'rawPercentage','index')"
   ]
  },
  {
   "cell_type": "markdown",
   "metadata": {},
   "source": [
    "## Principles for dealing with missing values \n",
    "Considering the small data set, 488 records, we cannot drop all null values. For most of missing values, this research will explore the relation between missing values and other relevant values, then applying the \"best reasonable guess\" in some missing values. But, some variables, such as gender or the final destination of the trip, are \"unguessable\" will be left as null.  \n",
    "\n",
    "(1) __Airline, FlightNo, DepartureHr, DepartureMn__ are correlated. These variables could be inferred from other variables. For example, the missing Airline information could be inferred from FlightNo; the missing FlightNo could be inferred from DepartureHr, DepartureMn, Destination, and Airport; the missing DepartureHr and DepartureMn could be inferred from FlightNo. Because it may easily mistype FlightNo, and the mistyped FlightNo will be inspected in this stage.     \n",
    "(2) __Gender__ will keep missing values null.  \n",
    "(3) __Age__ will be filled with mode number. \n",
    "(4) __Seat Class__ will use the mode number.  \n",
    "(5) __Airfare__ will use the median price of the same flight and same seat class. If there is no same seat class to refer, use the median price of the same flight. If there is no other record with same FlightNo to refer, use the median price of the flights with same Destination.  \n",
    "(6) __AccessCost__ will use the median cost of the same ProvinceResidence, NoTransport, and ModeTrasport.   \n",
    "(7) __AccessTime__ will use the median time of the same ProvinceResidence, NoTransport, and ModeTrasport.   \n",
    "(8) __Income__ will use the median income of the same Age and Occupation. If the left missing values is still more than 10%, fill the missing income value with median of ProvinceResidence.  \n",
    "(9) __Destination__ will keep missing values null.  \n",
    "(10) __MieageAirline and Mileage__ contain too many missing values, and these two columns are not related to passengers' transportation choice. These two columns will be dropped.  \n"
   ]
  },
  {
   "cell_type": "markdown",
   "metadata": {},
   "source": [
    "## Fill Value: Airline, FlightNo, DepartureHr, DepartureMn\n",
    "The current information of these four categories will be checked against the flight information from airport website and Google search. The missing values will be fixed with \"reasonable guess\", inferring the information of other related information. This part of data cleaning will be proceeded manually in Excel. The processed data is loaded as a separate csv file as following. "
   ]
  },
  {
   "cell_type": "code",
   "execution_count": 6,
   "metadata": {},
   "outputs": [],
   "source": [
    "df = pd.read_csv('../data/airport_choice_survey_practice_updated_Shuai.csv')"
   ]
  },
  {
   "cell_type": "code",
   "execution_count": 7,
   "metadata": {},
   "outputs": [
    {
     "data": {
      "text/html": [
       "<div>\n",
       "<style scoped>\n",
       "    .dataframe tbody tr th:only-of-type {\n",
       "        vertical-align: middle;\n",
       "    }\n",
       "\n",
       "    .dataframe tbody tr th {\n",
       "        vertical-align: top;\n",
       "    }\n",
       "\n",
       "    .dataframe thead th {\n",
       "        text-align: right;\n",
       "    }\n",
       "</style>\n",
       "<table border=\"1\" class=\"dataframe\">\n",
       "  <thead>\n",
       "    <tr style=\"text-align: right;\">\n",
       "      <th></th>\n",
       "      <th>index</th>\n",
       "      <th>rawCount</th>\n",
       "      <th>rawPercentage</th>\n",
       "      <th>Count_1</th>\n",
       "      <th>Percentage_1</th>\n",
       "      <th>decrease</th>\n",
       "    </tr>\n",
       "  </thead>\n",
       "  <tbody>\n",
       "    <tr>\n",
       "      <th>2</th>\n",
       "      <td>Airline</td>\n",
       "      <td>10</td>\n",
       "      <td>2.05</td>\n",
       "      <td>7</td>\n",
       "      <td>1.43</td>\n",
       "      <td>0.62</td>\n",
       "    </tr>\n",
       "    <tr>\n",
       "      <th>14</th>\n",
       "      <td>FlightNo</td>\n",
       "      <td>142</td>\n",
       "      <td>29.10</td>\n",
       "      <td>68</td>\n",
       "      <td>13.93</td>\n",
       "      <td>15.17</td>\n",
       "    </tr>\n",
       "    <tr>\n",
       "      <th>15</th>\n",
       "      <td>DepartureHr</td>\n",
       "      <td>33</td>\n",
       "      <td>6.76</td>\n",
       "      <td>24</td>\n",
       "      <td>4.92</td>\n",
       "      <td>1.84</td>\n",
       "    </tr>\n",
       "    <tr>\n",
       "      <th>16</th>\n",
       "      <td>DepartureMn</td>\n",
       "      <td>120</td>\n",
       "      <td>24.59</td>\n",
       "      <td>46</td>\n",
       "      <td>9.43</td>\n",
       "      <td>15.16</td>\n",
       "    </tr>\n",
       "  </tbody>\n",
       "</table>\n",
       "</div>"
      ],
      "text/plain": [
       "          index  rawCount  rawPercentage  Count_1  Percentage_1  decrease\n",
       "2       Airline        10           2.05        7          1.43      0.62\n",
       "14     FlightNo       142          29.10       68         13.93     15.17\n",
       "15  DepartureHr        33           6.76       24          4.92      1.84\n",
       "16  DepartureMn       120          24.59       46          9.43     15.16"
      ]
     },
     "execution_count": 7,
     "metadata": {},
     "output_type": "execute_result"
    }
   ],
   "source": [
    "missingValue_1 = sumMissing(df).rename(columns={0: 'Count_1', 1: 'Percentage_1'})\n",
    "missingValue_1 = missingValue_1.reset_index()\n",
    "#pd.concat([missingValueRaw, missingValue_1], axis=1)\n",
    "compare = compareDF(missingValueRaw,missingValue_1)\n",
    "compare['decrease'] = compare['rawPercentage'] - compare['Percentage_1']\n",
    "compare.iloc[['2','14','15','16']]"
   ]
  },
  {
   "cell_type": "markdown",
   "metadata": {},
   "source": [
    "After fixing the data of __Airline, FlightNo, DepartureHr, DepartureMn__, the rate of missing value of these four variable have decreased by 0.62%, 15.17%, 1.84%, 15.16%."
   ]
  },
  {
   "cell_type": "markdown",
   "metadata": {},
   "source": [
    "## Fill Value: Gender\n",
    "No action to this variable."
   ]
  },
  {
   "cell_type": "markdown",
   "metadata": {},
   "source": [
    "## Fill Value: Seat Class\n",
    "Replace the missing value with mode value."
   ]
  },
  {
   "cell_type": "code",
   "execution_count": 8,
   "metadata": {},
   "outputs": [],
   "source": [
    "df['SeatClass'].fillna(df['SeatClass'].mode()[0], inplace=True)"
   ]
  },
  {
   "cell_type": "code",
   "execution_count": 9,
   "metadata": {
    "scrolled": true
   },
   "outputs": [
    {
     "data": {
      "text/plain": [
       "index           SeatClass\n",
       "Count_1                 4\n",
       "Percentage_1         0.82\n",
       "Count_2                 0\n",
       "Percentage_2            0\n",
       "decrease             0.82\n",
       "Name: 18, dtype: object"
      ]
     },
     "execution_count": 9,
     "metadata": {},
     "output_type": "execute_result"
    }
   ],
   "source": [
    "missingValue_2 = sumMissing(df).rename(columns={0: 'Count_2', 1: 'Percentage_2'})\n",
    "missingValue_2 = missingValue_2.reset_index()\n",
    "compare = compareDF(missingValue_1,missingValue_2)\n",
    "compare['decrease'] = compare['Percentage_1'] - compare['Percentage_2']\n",
    "compare.iloc[18]"
   ]
  },
  {
   "cell_type": "markdown",
   "metadata": {},
   "source": [
    "After fixing the data of __SeatClass__, the rate of missing value of this variable have decreased by 0.82%. There is no missing value at this variable. "
   ]
  },
  {
   "cell_type": "markdown",
   "metadata": {},
   "source": [
    "## Fill Value: Airfare"
   ]
  },
  {
   "cell_type": "markdown",
   "metadata": {},
   "source": [
    "### Median of the same flight and same seat class"
   ]
  },
  {
   "cell_type": "code",
   "execution_count": 10,
   "metadata": {},
   "outputs": [],
   "source": [
    "df = fillAirfare(df,['FlightNo','SeatClass','Airfare'],['FlightNo','SeatClass'] )"
   ]
  },
  {
   "cell_type": "code",
   "execution_count": 11,
   "metadata": {},
   "outputs": [
    {
     "data": {
      "text/plain": [
       "index           Airfare\n",
       "Count_2             155\n",
       "Percentage_2      31.76\n",
       "Count_3              58\n",
       "Percentage_3      11.89\n",
       "decrease          19.87\n",
       "Name: 19, dtype: object"
      ]
     },
     "execution_count": 11,
     "metadata": {},
     "output_type": "execute_result"
    }
   ],
   "source": [
    "missingValue_3 = sumMissing(df).rename(columns={0: 'Count_3', 1: 'Percentage_3'})\n",
    "missingValue_3 = missingValue_3.reset_index()\n",
    "compare = compareDF(missingValue_2,missingValue_3)\n",
    "compare['decrease'] = compare['Percentage_2'] - compare['Percentage_3']\n",
    "compare.iloc[19]"
   ]
  },
  {
   "cell_type": "markdown",
   "metadata": {},
   "source": [
    "Missing rate of __Airfare__ decrease by 19.87%."
   ]
  },
  {
   "cell_type": "markdown",
   "metadata": {},
   "source": [
    "### Median of the same flight"
   ]
  },
  {
   "cell_type": "code",
   "execution_count": 12,
   "metadata": {},
   "outputs": [],
   "source": [
    "df = fillAirfare(df,['FlightNo','Airfare'],['FlightNo'] )"
   ]
  },
  {
   "cell_type": "code",
   "execution_count": 13,
   "metadata": {
    "scrolled": true
   },
   "outputs": [
    {
     "data": {
      "text/plain": [
       "index           Airfare\n",
       "Count_3              58\n",
       "Percentage_3      11.89\n",
       "Count_4              51\n",
       "Percentage_4      10.45\n",
       "decrease           1.44\n",
       "Name: 19, dtype: object"
      ]
     },
     "execution_count": 13,
     "metadata": {},
     "output_type": "execute_result"
    }
   ],
   "source": [
    "missingValue_4 = sumMissing(df).rename(columns={0: 'Count_4', 1: 'Percentage_4'})\n",
    "missingValue_4 = missingValue_4.reset_index()\n",
    "compare = compareDF(missingValue_3,missingValue_4)\n",
    "compare['decrease'] = compare['Percentage_3'] - compare['Percentage_4']\n",
    "compare.iloc[19]"
   ]
  },
  {
   "cell_type": "markdown",
   "metadata": {},
   "source": [
    "Missing rate of __Airfare__ decrease by 1.44%."
   ]
  },
  {
   "cell_type": "markdown",
   "metadata": {},
   "source": [
    "### Median of the same destination"
   ]
  },
  {
   "cell_type": "code",
   "execution_count": 14,
   "metadata": {},
   "outputs": [],
   "source": [
    "df = fillAirfare(df,['Destination','Airfare'],['Destination'] )"
   ]
  },
  {
   "cell_type": "code",
   "execution_count": 15,
   "metadata": {
    "scrolled": true
   },
   "outputs": [
    {
     "data": {
      "text/plain": [
       "index           Airfare\n",
       "Count_4              51\n",
       "Percentage_4      10.45\n",
       "Count_5               2\n",
       "Percentage_5       0.41\n",
       "decrease          10.04\n",
       "Name: 19, dtype: object"
      ]
     },
     "execution_count": 15,
     "metadata": {},
     "output_type": "execute_result"
    }
   ],
   "source": [
    "missingValue_5 = sumMissing(df).rename(columns={0: 'Count_5', 1: 'Percentage_5'})\n",
    "missingValue_5 = missingValue_5.reset_index()\n",
    "compare = compareDF(missingValue_4,missingValue_5)\n",
    "compare['decrease'] = compare['Percentage_4'] - compare['Percentage_5']\n",
    "compare.iloc[19]"
   ]
  },
  {
   "cell_type": "markdown",
   "metadata": {},
   "source": [
    "Missing rate of __Airfare__ decrease by 10.04%. Now, the missing rate of __Airfare__ is 0.41%."
   ]
  },
  {
   "cell_type": "markdown",
   "metadata": {},
   "source": [
    "### Median of all Airfare"
   ]
  },
  {
   "cell_type": "code",
   "execution_count": 16,
   "metadata": {},
   "outputs": [],
   "source": [
    "df['Airfare'].fillna(df['Airfare'].mode()[0], inplace=True)"
   ]
  },
  {
   "cell_type": "markdown",
   "metadata": {},
   "source": [
    "## Fill Values: AccessCost "
   ]
  },
  {
   "cell_type": "markdown",
   "metadata": {},
   "source": [
    "### Median of same Airport, ProvinceResidence, ModeTransport, NoTransport"
   ]
  },
  {
   "cell_type": "code",
   "execution_count": 17,
   "metadata": {},
   "outputs": [],
   "source": [
    "df = fillAccessCost(df,['Airport','AccessCost', 'ProvinceResidence', 'NoTransport', 'ModeTransport'],['Airport','ProvinceResidence', 'NoTransport', 'ModeTransport'])"
   ]
  },
  {
   "cell_type": "code",
   "execution_count": 18,
   "metadata": {
    "scrolled": true
   },
   "outputs": [
    {
     "data": {
      "text/plain": [
       "index           AccessCost\n",
       "Count_5                197\n",
       "Percentage_5         40.37\n",
       "Count_6                 58\n",
       "Percentage_6         11.89\n",
       "decrease             28.48\n",
       "Name: 22, dtype: object"
      ]
     },
     "execution_count": 18,
     "metadata": {},
     "output_type": "execute_result"
    }
   ],
   "source": [
    "missingValue_6 = sumMissing(df).rename(columns={0: 'Count_6', 1: 'Percentage_6'})\n",
    "missingValue_6 = missingValue_6.reset_index()\n",
    "compare = compareDF(missingValue_5,missingValue_6)\n",
    "compare['decrease'] = compare['Percentage_5'] - compare['Percentage_6']\n",
    "compare.iloc[22]"
   ]
  },
  {
   "cell_type": "markdown",
   "metadata": {},
   "source": [
    "Missing rate of __AccessCost__ decrease by 28.48%. Now, the missing rate of AccessCost is 11.89%."
   ]
  },
  {
   "cell_type": "markdown",
   "metadata": {},
   "source": [
    "### Median of same Airport, ProvinceResidence, ModeTransport"
   ]
  },
  {
   "cell_type": "code",
   "execution_count": 19,
   "metadata": {},
   "outputs": [],
   "source": [
    "df = fillAccessCost(df,['Airport','AccessCost', 'ProvinceResidence', 'ModeTransport'],['Airport','ProvinceResidence', 'ModeTransport'])"
   ]
  },
  {
   "cell_type": "code",
   "execution_count": 20,
   "metadata": {},
   "outputs": [
    {
     "data": {
      "text/plain": [
       "index           AccessCost\n",
       "Count_6                 58\n",
       "Percentage_6         11.89\n",
       "Count_7                 49\n",
       "Percentage_7         10.04\n",
       "decrease              1.85\n",
       "Name: 22, dtype: object"
      ]
     },
     "execution_count": 20,
     "metadata": {},
     "output_type": "execute_result"
    }
   ],
   "source": [
    "missingValue_7 = sumMissing(df).rename(columns={0: 'Count_7', 1: 'Percentage_7'})\n",
    "missingValue_7 = missingValue_7.reset_index()\n",
    "compare = compareDF(missingValue_6,missingValue_7)\n",
    "compare['decrease'] = compare['Percentage_6'] - compare['Percentage_7']\n",
    "compare.iloc[22]"
   ]
  },
  {
   "cell_type": "markdown",
   "metadata": {},
   "source": [
    "Missing rate of __AccessCost__ decrease by 1.85%. Now, the missing rate of AccessCost is 10.04%."
   ]
  },
  {
   "cell_type": "markdown",
   "metadata": {},
   "source": [
    "### Median of same Airport, ProvinceResidence"
   ]
  },
  {
   "cell_type": "code",
   "execution_count": 21,
   "metadata": {},
   "outputs": [],
   "source": [
    "df = fillAccessCost(df,['Airport','AccessCost', 'ProvinceResidence'],['Airport','ProvinceResidence'])"
   ]
  },
  {
   "cell_type": "code",
   "execution_count": 22,
   "metadata": {},
   "outputs": [
    {
     "data": {
      "text/plain": [
       "index           AccessCost\n",
       "Count_7                 49\n",
       "Percentage_7         10.04\n",
       "Count_8                  0\n",
       "Percentage_8             0\n",
       "decrease             10.04\n",
       "Name: 22, dtype: object"
      ]
     },
     "execution_count": 22,
     "metadata": {},
     "output_type": "execute_result"
    }
   ],
   "source": [
    "missingValue_8 = sumMissing(df).rename(columns={0: 'Count_8', 1: 'Percentage_8'})\n",
    "missingValue_8 = missingValue_8.reset_index()\n",
    "compare = compareDF(missingValue_7,missingValue_8)\n",
    "compare['decrease'] = compare['Percentage_7'] - compare['Percentage_8']\n",
    "compare.iloc[22]"
   ]
  },
  {
   "cell_type": "markdown",
   "metadata": {},
   "source": [
    "Missing rate of __AccessCost__ decrease by 10.04%. Now, the missing rate of AccessCost is zero."
   ]
  },
  {
   "cell_type": "markdown",
   "metadata": {},
   "source": [
    "## Fill Values: AccessTime"
   ]
  },
  {
   "cell_type": "markdown",
   "metadata": {},
   "source": [
    "### Median of same Airport, ProvinceResidence, ModeTransport, NoTransport"
   ]
  },
  {
   "cell_type": "code",
   "execution_count": 23,
   "metadata": {},
   "outputs": [],
   "source": [
    "df = fillAccessTime(df,['Airport','AccessTime', 'ProvinceResidence', 'ModeTransport', 'NoTransport'],['Airport', 'ProvinceResidence', 'ModeTransport', 'NoTransport'])"
   ]
  },
  {
   "cell_type": "code",
   "execution_count": 24,
   "metadata": {},
   "outputs": [
    {
     "data": {
      "text/plain": [
       "index           AccessTime\n",
       "Count_8                 97\n",
       "Percentage_8         19.88\n",
       "Count_9                 17\n",
       "Percentage_9          3.48\n",
       "decrease              16.4\n",
       "Name: 23, dtype: object"
      ]
     },
     "execution_count": 24,
     "metadata": {},
     "output_type": "execute_result"
    }
   ],
   "source": [
    "missingValue_9 = sumMissing(df).rename(columns={0: 'Count_9', 1: 'Percentage_9'})\n",
    "missingValue_9 = missingValue_9.reset_index()\n",
    "compare = compareDF(missingValue_8,missingValue_9)\n",
    "compare['decrease'] = compare['Percentage_8'] - compare['Percentage_9']\n",
    "compare.iloc[23]"
   ]
  },
  {
   "cell_type": "markdown",
   "metadata": {},
   "source": [
    "Missing rate of __AccessTime__ decrease by 16.4%. Now, the missing rate of AccessTime is 3.48%."
   ]
  },
  {
   "cell_type": "markdown",
   "metadata": {},
   "source": [
    "### Median of same Airport, ProvinceResidence, ModeTransport"
   ]
  },
  {
   "cell_type": "code",
   "execution_count": 25,
   "metadata": {},
   "outputs": [],
   "source": [
    "df = fillAccessTime(df,['Airport','AccessTime', 'ProvinceResidence', 'ModeTransport'],['Airport', 'ProvinceResidence', 'ModeTransport'])"
   ]
  },
  {
   "cell_type": "code",
   "execution_count": 26,
   "metadata": {},
   "outputs": [
    {
     "data": {
      "text/plain": [
       "index            AccessTime\n",
       "Count_9                  17\n",
       "Percentage_9           3.48\n",
       "Count_10                 11\n",
       "Percentage_10          2.25\n",
       "decrease               1.23\n",
       "Name: 23, dtype: object"
      ]
     },
     "execution_count": 26,
     "metadata": {},
     "output_type": "execute_result"
    }
   ],
   "source": [
    "missingValue_10 = sumMissing(df).rename(columns={0: 'Count_10', 1: 'Percentage_10'})\n",
    "missingValue_10 = missingValue_10.reset_index()\n",
    "compare = compareDF(missingValue_9,missingValue_10)\n",
    "compare['decrease'] = compare['Percentage_9'] - compare['Percentage_10']\n",
    "compare.iloc[23]"
   ]
  },
  {
   "cell_type": "markdown",
   "metadata": {},
   "source": [
    "Missing rate of __AccessTime__ decrease by 1.23%. Now, the missing rate of AccessTime is 2.25%."
   ]
  },
  {
   "cell_type": "markdown",
   "metadata": {},
   "source": [
    "### Median of same Airport, ProvinceResidence"
   ]
  },
  {
   "cell_type": "code",
   "execution_count": 27,
   "metadata": {},
   "outputs": [],
   "source": [
    "df = fillAccessTime(df,['Airport','AccessTime', 'ProvinceResidence'],['Airport', 'ProvinceResidence'])"
   ]
  },
  {
   "cell_type": "code",
   "execution_count": 28,
   "metadata": {},
   "outputs": [
    {
     "data": {
      "text/plain": [
       "index            AccessTime\n",
       "Count_10                 11\n",
       "Percentage_10          2.25\n",
       "Count_11                  0\n",
       "Percentage_11             0\n",
       "decrease               2.25\n",
       "Name: 23, dtype: object"
      ]
     },
     "execution_count": 28,
     "metadata": {},
     "output_type": "execute_result"
    }
   ],
   "source": [
    "missingValue_11 = sumMissing(df).rename(columns={0: 'Count_11', 1: 'Percentage_11'})\n",
    "missingValue_11 = missingValue_11.reset_index()\n",
    "compare = compareDF(missingValue_10,missingValue_11)\n",
    "compare['decrease'] = compare['Percentage_10'] - compare['Percentage_11']\n",
    "compare.iloc[23]"
   ]
  },
  {
   "cell_type": "markdown",
   "metadata": {},
   "source": [
    "Missing rate of __AccessTime__ decrease by 2.25%. Now, the missing rate of AccessTime is Zero."
   ]
  },
  {
   "cell_type": "markdown",
   "metadata": {},
   "source": [
    "## Fill Values: Income"
   ]
  },
  {
   "cell_type": "markdown",
   "metadata": {},
   "source": [
    "### Median of same age and occupation group"
   ]
  },
  {
   "cell_type": "code",
   "execution_count": 29,
   "metadata": {},
   "outputs": [],
   "source": [
    "df = fillIncome(df,['Income','Age', 'Occupation'],['Age', 'Occupation'])"
   ]
  },
  {
   "cell_type": "code",
   "execution_count": 30,
   "metadata": {},
   "outputs": [
    {
     "data": {
      "text/plain": [
       "index            Income\n",
       "Count_11            132\n",
       "Percentage_11     27.05\n",
       "Count_12             70\n",
       "Percentage_12     14.34\n",
       "decrease          12.71\n",
       "Name: 25, dtype: object"
      ]
     },
     "execution_count": 30,
     "metadata": {},
     "output_type": "execute_result"
    }
   ],
   "source": [
    "missingValue_12 = sumMissing(df).rename(columns={0: 'Count_12', 1: 'Percentage_12'})\n",
    "missingValue_12 = missingValue_12.reset_index()\n",
    "compare = compareDF(missingValue_11,missingValue_12)\n",
    "compare['decrease'] = compare['Percentage_11'] - compare['Percentage_12']\n",
    "compare.iloc[25]"
   ]
  },
  {
   "cell_type": "markdown",
   "metadata": {},
   "source": [
    "Missing rate of __Income__ decrease by 12.71%. Now, the missing rate of Income is 14.34%."
   ]
  },
  {
   "cell_type": "markdown",
   "metadata": {},
   "source": [
    "### Median of same ProvinceResidence"
   ]
  },
  {
   "cell_type": "code",
   "execution_count": 31,
   "metadata": {},
   "outputs": [],
   "source": [
    "df = fillIncome(df,['Income','ProvinceResidence'],['ProvinceResidence'])"
   ]
  },
  {
   "cell_type": "code",
   "execution_count": 32,
   "metadata": {},
   "outputs": [
    {
     "data": {
      "text/plain": [
       "index            Income\n",
       "Count_12             70\n",
       "Percentage_12     14.34\n",
       "Count_13              0\n",
       "Percentage_13         0\n",
       "decrease          14.34\n",
       "Name: 25, dtype: object"
      ]
     },
     "execution_count": 32,
     "metadata": {},
     "output_type": "execute_result"
    }
   ],
   "source": [
    "missingValue_13 = sumMissing(df).rename(columns={0: 'Count_13', 1: 'Percentage_13'})\n",
    "missingValue_13 = missingValue_13.reset_index()\n",
    "compare = compareDF(missingValue_12,missingValue_13)\n",
    "compare['decrease'] = compare['Percentage_12'] - compare['Percentage_13']\n",
    "compare.iloc[25]"
   ]
  },
  {
   "cell_type": "markdown",
   "metadata": {},
   "source": [
    "Missing rate of __Income__ decrease by 14.34%. Now, the missing rate of Income is Zero."
   ]
  },
  {
   "cell_type": "markdown",
   "metadata": {},
   "source": [
    "## Fill Values: Age"
   ]
  },
  {
   "cell_type": "markdown",
   "metadata": {},
   "source": [
    "Missing Age will be filled with mode. "
   ]
  },
  {
   "cell_type": "code",
   "execution_count": 33,
   "metadata": {},
   "outputs": [],
   "source": [
    "df['Age'].fillna(df['Age'].mode()[0], inplace=True)"
   ]
  },
  {
   "cell_type": "code",
   "execution_count": 34,
   "metadata": {
    "scrolled": true
   },
   "outputs": [
    {
     "data": {
      "text/plain": [
       "index            Age\n",
       "Count_13           1\n",
       "Percentage_13    0.2\n",
       "Count_14           0\n",
       "Percentage_14      0\n",
       "decrease         0.2\n",
       "Name: 3, dtype: object"
      ]
     },
     "execution_count": 34,
     "metadata": {},
     "output_type": "execute_result"
    }
   ],
   "source": [
    "missingValue_14 = sumMissing(df).rename(columns={0: 'Count_14', 1: 'Percentage_14'})\n",
    "missingValue_14 = missingValue_14.reset_index()\n",
    "compare = compareDF(missingValue_13,missingValue_14)\n",
    "compare['decrease'] = compare['Percentage_13'] - compare['Percentage_14']\n",
    "compare.iloc[3]"
   ]
  },
  {
   "cell_type": "markdown",
   "metadata": {},
   "source": [
    "## Drop Variable: MileageAirline and Mileage"
   ]
  },
  {
   "cell_type": "markdown",
   "metadata": {},
   "source": [
    "These two columns will be dropped."
   ]
  },
  {
   "cell_type": "code",
   "execution_count": 35,
   "metadata": {},
   "outputs": [],
   "source": [
    "df = df.drop(columns = ['MileageAirline', 'Mileage'])"
   ]
  },
  {
   "cell_type": "markdown",
   "metadata": {},
   "source": [
    "## Checking Missing Value Again"
   ]
  },
  {
   "cell_type": "code",
   "execution_count": 36,
   "metadata": {},
   "outputs": [
    {
     "data": {
      "text/html": [
       "<div>\n",
       "<style scoped>\n",
       "    .dataframe tbody tr th:only-of-type {\n",
       "        vertical-align: middle;\n",
       "    }\n",
       "\n",
       "    .dataframe tbody tr th {\n",
       "        vertical-align: top;\n",
       "    }\n",
       "\n",
       "    .dataframe thead th {\n",
       "        text-align: right;\n",
       "    }\n",
       "</style>\n",
       "<table border=\"1\" class=\"dataframe\">\n",
       "  <thead>\n",
       "    <tr style=\"text-align: right;\">\n",
       "      <th></th>\n",
       "      <th>index</th>\n",
       "      <th>Count</th>\n",
       "      <th>Percentage</th>\n",
       "    </tr>\n",
       "  </thead>\n",
       "  <tbody>\n",
       "    <tr>\n",
       "      <th>0</th>\n",
       "      <td>ID</td>\n",
       "      <td>0</td>\n",
       "      <td>0.00</td>\n",
       "    </tr>\n",
       "    <tr>\n",
       "      <th>1</th>\n",
       "      <td>Airport</td>\n",
       "      <td>0</td>\n",
       "      <td>0.00</td>\n",
       "    </tr>\n",
       "    <tr>\n",
       "      <th>2</th>\n",
       "      <td>Airline</td>\n",
       "      <td>7</td>\n",
       "      <td>1.43</td>\n",
       "    </tr>\n",
       "    <tr>\n",
       "      <th>3</th>\n",
       "      <td>Age</td>\n",
       "      <td>0</td>\n",
       "      <td>0.00</td>\n",
       "    </tr>\n",
       "    <tr>\n",
       "      <th>4</th>\n",
       "      <td>Gender</td>\n",
       "      <td>3</td>\n",
       "      <td>0.61</td>\n",
       "    </tr>\n",
       "    <tr>\n",
       "      <th>5</th>\n",
       "      <td>Nationality</td>\n",
       "      <td>0</td>\n",
       "      <td>0.00</td>\n",
       "    </tr>\n",
       "    <tr>\n",
       "      <th>6</th>\n",
       "      <td>TripPurpose</td>\n",
       "      <td>0</td>\n",
       "      <td>0.00</td>\n",
       "    </tr>\n",
       "    <tr>\n",
       "      <th>7</th>\n",
       "      <td>TripDuration</td>\n",
       "      <td>0</td>\n",
       "      <td>0.00</td>\n",
       "    </tr>\n",
       "    <tr>\n",
       "      <th>8</th>\n",
       "      <td>FlyingCompanion</td>\n",
       "      <td>0</td>\n",
       "      <td>0.00</td>\n",
       "    </tr>\n",
       "    <tr>\n",
       "      <th>9</th>\n",
       "      <td>ProvinceResidence</td>\n",
       "      <td>0</td>\n",
       "      <td>0.00</td>\n",
       "    </tr>\n",
       "    <tr>\n",
       "      <th>10</th>\n",
       "      <td>GroupTravel</td>\n",
       "      <td>0</td>\n",
       "      <td>0.00</td>\n",
       "    </tr>\n",
       "    <tr>\n",
       "      <th>11</th>\n",
       "      <td>NoTripsLastYear</td>\n",
       "      <td>0</td>\n",
       "      <td>0.00</td>\n",
       "    </tr>\n",
       "    <tr>\n",
       "      <th>12</th>\n",
       "      <td>FrequentFlightDestination</td>\n",
       "      <td>0</td>\n",
       "      <td>0.00</td>\n",
       "    </tr>\n",
       "    <tr>\n",
       "      <th>13</th>\n",
       "      <td>Destination</td>\n",
       "      <td>5</td>\n",
       "      <td>1.02</td>\n",
       "    </tr>\n",
       "    <tr>\n",
       "      <th>14</th>\n",
       "      <td>FlightNo</td>\n",
       "      <td>68</td>\n",
       "      <td>13.93</td>\n",
       "    </tr>\n",
       "    <tr>\n",
       "      <th>15</th>\n",
       "      <td>DepartureHr</td>\n",
       "      <td>24</td>\n",
       "      <td>4.92</td>\n",
       "    </tr>\n",
       "    <tr>\n",
       "      <th>16</th>\n",
       "      <td>DepartureMn</td>\n",
       "      <td>46</td>\n",
       "      <td>9.43</td>\n",
       "    </tr>\n",
       "    <tr>\n",
       "      <th>17</th>\n",
       "      <td>DepartureTime</td>\n",
       "      <td>0</td>\n",
       "      <td>0.00</td>\n",
       "    </tr>\n",
       "    <tr>\n",
       "      <th>18</th>\n",
       "      <td>SeatClass</td>\n",
       "      <td>0</td>\n",
       "      <td>0.00</td>\n",
       "    </tr>\n",
       "    <tr>\n",
       "      <th>19</th>\n",
       "      <td>Airfare</td>\n",
       "      <td>0</td>\n",
       "      <td>0.00</td>\n",
       "    </tr>\n",
       "    <tr>\n",
       "      <th>20</th>\n",
       "      <td>NoTransport</td>\n",
       "      <td>0</td>\n",
       "      <td>0.00</td>\n",
       "    </tr>\n",
       "    <tr>\n",
       "      <th>21</th>\n",
       "      <td>ModeTransport</td>\n",
       "      <td>0</td>\n",
       "      <td>0.00</td>\n",
       "    </tr>\n",
       "    <tr>\n",
       "      <th>22</th>\n",
       "      <td>AccessCost</td>\n",
       "      <td>0</td>\n",
       "      <td>0.00</td>\n",
       "    </tr>\n",
       "    <tr>\n",
       "      <th>23</th>\n",
       "      <td>AccessTime</td>\n",
       "      <td>0</td>\n",
       "      <td>0.00</td>\n",
       "    </tr>\n",
       "    <tr>\n",
       "      <th>24</th>\n",
       "      <td>Occupation</td>\n",
       "      <td>0</td>\n",
       "      <td>0.00</td>\n",
       "    </tr>\n",
       "    <tr>\n",
       "      <th>25</th>\n",
       "      <td>Income</td>\n",
       "      <td>0</td>\n",
       "      <td>0.00</td>\n",
       "    </tr>\n",
       "  </tbody>\n",
       "</table>\n",
       "</div>"
      ],
      "text/plain": [
       "                        index  Count  Percentage\n",
       "0                          ID      0        0.00\n",
       "1                     Airport      0        0.00\n",
       "2                     Airline      7        1.43\n",
       "3                         Age      0        0.00\n",
       "4                      Gender      3        0.61\n",
       "5                 Nationality      0        0.00\n",
       "6                 TripPurpose      0        0.00\n",
       "7                TripDuration      0        0.00\n",
       "8             FlyingCompanion      0        0.00\n",
       "9           ProvinceResidence      0        0.00\n",
       "10                GroupTravel      0        0.00\n",
       "11            NoTripsLastYear      0        0.00\n",
       "12  FrequentFlightDestination      0        0.00\n",
       "13                Destination      5        1.02\n",
       "14                   FlightNo     68       13.93\n",
       "15                DepartureHr     24        4.92\n",
       "16                DepartureMn     46        9.43\n",
       "17              DepartureTime      0        0.00\n",
       "18                  SeatClass      0        0.00\n",
       "19                    Airfare      0        0.00\n",
       "20                NoTransport      0        0.00\n",
       "21              ModeTransport      0        0.00\n",
       "22                 AccessCost      0        0.00\n",
       "23                 AccessTime      0        0.00\n",
       "24                 Occupation      0        0.00\n",
       "25                     Income      0        0.00"
      ]
     },
     "execution_count": 36,
     "metadata": {},
     "output_type": "execute_result"
    }
   ],
   "source": [
    "missingValue = sumMissing(df).rename(columns={0: 'Count', 1: 'Percentage'})\n",
    "missingValue = missingValue.reset_index()\n",
    "missingValue"
   ]
  },
  {
   "cell_type": "code",
   "execution_count": 45,
   "metadata": {},
   "outputs": [
    {
     "data": {
      "image/png": "[encoded data removed]",
      "text/plain": [
       "<Figure size 842.4x595.44 with 1 Axes>"
      ]
     },
     "metadata": {
      "needs_background": "light"
     },
     "output_type": "display_data"
    }
   ],
   "source": [
    "horzBarPlot(missingValue,'Percentage','index')"
   ]
  },
  {
   "cell_type": "markdown",
   "metadata": {},
   "source": [
    "# Deal with Data Type"
   ]
  },
  {
   "cell_type": "markdown",
   "metadata": {},
   "source": [
    "## Preview the data type"
   ]
  },
  {
   "cell_type": "code",
   "execution_count": 39,
   "metadata": {},
   "outputs": [
    {
     "data": {
      "text/plain": [
       "ID                             int64\n",
       "Airport                        int64\n",
       "Airline                      float64\n",
       "Age                          float64\n",
       "Gender                       float64\n",
       "Nationality                    int64\n",
       "TripPurpose                    int64\n",
       "TripDuration                   int64\n",
       "FlyingCompanion                int64\n",
       "ProvinceResidence              int64\n",
       "GroupTravel                    int64\n",
       "NoTripsLastYear                int64\n",
       "FrequentFlightDestination     object\n",
       "Destination                  float64\n",
       "FlightNo                      object\n",
       "DepartureHr                  float64\n",
       "DepartureMn                  float64\n",
       "DepartureTime                  int64\n",
       "SeatClass                    float64\n",
       "Airfare                      float64\n",
       "NoTransport                    int64\n",
       "ModeTransport                  int64\n",
       "AccessCost                   float64\n",
       "AccessTime                   float64\n",
       "Occupation                     int64\n",
       "Income                       float64\n",
       "dtype: object"
      ]
     },
     "execution_count": 39,
     "metadata": {},
     "output_type": "execute_result"
    }
   ],
   "source": [
    "df.dtypes"
   ]
  },
  {
   "cell_type": "markdown",
   "metadata": {},
   "source": [
    "## Convert the data type\n",
    "\n",
    "__object:__ ID  \n",
    "__int64:__  Age, TripDuration, FlyingCompanion, NoTripsLastYear, NoTransport  \n",
    "__float64:__  DepartureHr, DepartureMn, Airfare, AccessCost, AccessTime  \n",
    "__category:__ Airport, Airline, Gender, Nationality, TripPurpose, ProvinceResidence, GroupTravel, FrequentFlightDestination, Destination, FlightNo, DepartureTime, SeatClass, ModeTransport, Occupation, Income"
   ]
  },
  {
   "cell_type": "code",
   "execution_count": 40,
   "metadata": {},
   "outputs": [],
   "source": [
    "df['ID'] = df['ID'].astype('object')"
   ]
  },
  {
   "cell_type": "code",
   "execution_count": 41,
   "metadata": {},
   "outputs": [],
   "source": [
    "for i in ['Age','TripDuration', 'FlyingCompanion', 'NoTripsLastYear', 'NoTransport']:\n",
    "    df[i] = df[i].astype('int64')"
   ]
  },
  {
   "cell_type": "code",
   "execution_count": 42,
   "metadata": {},
   "outputs": [],
   "source": [
    "for i in ['DepartureHr', 'DepartureMn', 'Airfare', 'AccessCost', 'AccessTime']:\n",
    "    df[i] = df[i].astype('float64')"
   ]
  },
  {
   "cell_type": "code",
   "execution_count": 43,
   "metadata": {},
   "outputs": [],
   "source": [
    "for i in ['Airport', 'Airline', 'Gender', 'Nationality', 'TripPurpose', 'ProvinceResidence', 'GroupTravel', 'FrequentFlightDestination', 'Destination', 'FlightNo', 'DepartureTime', 'SeatClass', 'ModeTransport', 'Occupation', 'Income']:\n",
    "    df[i] = df[i].astype('category')"
   ]
  },
  {
   "cell_type": "code",
   "execution_count": 44,
   "metadata": {},
   "outputs": [
    {
     "data": {
      "text/plain": [
       "ID                             object\n",
       "Airport                      category\n",
       "Airline                      category\n",
       "Age                             int64\n",
       "Gender                       category\n",
       "Nationality                  category\n",
       "TripPurpose                  category\n",
       "TripDuration                    int64\n",
       "FlyingCompanion                 int64\n",
       "ProvinceResidence            category\n",
       "GroupTravel                  category\n",
       "NoTripsLastYear                 int64\n",
       "FrequentFlightDestination    category\n",
       "Destination                  category\n",
       "FlightNo                     category\n",
       "DepartureHr                   float64\n",
       "DepartureMn                   float64\n",
       "DepartureTime                category\n",
       "SeatClass                    category\n",
       "Airfare                       float64\n",
       "NoTransport                     int64\n",
       "ModeTransport                category\n",
       "AccessCost                    float64\n",
       "AccessTime                    float64\n",
       "Occupation                   category\n",
       "Income                       category\n",
       "dtype: object"
      ]
     },
     "execution_count": 44,
     "metadata": {},
     "output_type": "execute_result"
    }
   ],
   "source": [
    "df.dtypes"
   ]
  },
  {
   "cell_type": "markdown",
   "metadata": {},
   "source": [
    "# EDA: Airport \n",
    "\n",
    "There is no missing value in this variable. The records from GMP is slightly more than the records from ICN. "
   ]
  },
  {
   "cell_type": "code",
   "execution_count": null,
   "metadata": {
    "scrolled": true
   },
   "outputs": [],
   "source": [
    "#df['Airport'] = df['Airport'].replace(1, \"ICN\")\n",
    "#df['Airport'] = df['Airport'].replace(2, \"GMP\")\n",
    "\n",
    "sns.countplot(x=\"Airport\", data=df).set_xticklabels([\"ICN\",\"GMP\"])\n",
    "plt.title('Records from Two Airports')\n",
    "plt.xlabel('Airport Choice')"
   ]
  },
  {
   "cell_type": "markdown",
   "metadata": {},
   "source": [
    "# EDA: Airline"
   ]
  },
  {
   "cell_type": "code",
   "execution_count": null,
   "metadata": {},
   "outputs": [],
   "source": [
    "sns.countplot(x=\"Airline\", data=df.#set_xticklabels([\"ICN\",\"GMP\"])\n",
    "plt.title('Records of Airline Companies')\n",
    "plt.xlabel('Airline Choice')"
   ]
  },
  {
   "cell_type": "markdown",
   "metadata": {},
   "source": [
    "## Data wrangling principles\n",
    "Error value:  \n",
    "(1) Error value of W7667 in the field of \"DepartureHR\" of \"ID 399\". Correct this record by moving W7667 into \"FlightNo\"  \n",
    "Missing Value:   \n",
    "(2) The missing values of following fields will be replaced with mode number  \n",
    "(3) The missing values of following fields will be replaced with zero  \n",
    "(4) The following fields will be removed because too many missing values and also it is not related to the traveler's choice.   \n",
    "    - MileageAirline \n",
    "    - Mileage"
   ]
  },
  {
   "cell_type": "code",
   "execution_count": null,
   "metadata": {},
   "outputs": [],
   "source": [
    "df = df.drop(columns=['MileageAirline', 'Mileage'])"
   ]
  },
  {
   "cell_type": "code",
   "execution_count": null,
   "metadata": {},
   "outputs": [],
   "source": [
    "df['FlightNo']=df['FlightNo'].str.upper()"
   ]
  },
  {
   "cell_type": "code",
   "execution_count": null,
   "metadata": {},
   "outputs": [],
   "source": [
    "# Convert to dummies\n",
    "# df2 = pd.get_dummies(df['Airport'], prefix=['Airport'])\n",
    "# df3 = df.join(df2, how='outer')"
   ]
  },
  {
   "cell_type": "code",
   "execution_count": null,
   "metadata": {},
   "outputs": [],
   "source": [
    "df.info()"
   ]
  },
  {
   "cell_type": "markdown",
   "metadata": {},
   "source": [
    "## EDA  \n",
    "\n",
    "The EDA will be guided by following questions: \n",
    "1. In this data set, what's distribution of records departing from ICN and GMP?  \n"
   ]
  },
  {
   "cell_type": "code",
   "execution_count": null,
   "metadata": {},
   "outputs": [],
   "source": [
    "df['Airport'] = df['Airport'].replace(1, \"ICN\")\n",
    "df['Airport'] = df['Airport'].replace(2, \"GMP\")\n",
    "df2 = pd.get_dummies(df['Airport'],prefix=['Airport'])"
   ]
  },
  {
   "cell_type": "code",
   "execution_count": null,
   "metadata": {},
   "outputs": [],
   "source": [
    "df2"
   ]
  },
  {
   "cell_type": "code",
   "execution_count": null,
   "metadata": {},
   "outputs": [],
   "source": [
    "df['FlightTime'] = df['DepartureHr'].map(str)+\":\"+df['DepartureMn'].map(str)"
   ]
  },
  {
   "cell_type": "code",
   "execution_count": null,
   "metadata": {
    "scrolled": true
   },
   "outputs": [],
   "source": [
    "pd.options.display.max_columns = None\n",
    "display(df)"
   ]
  },
  {
   "cell_type": "code",
   "execution_count": null,
   "metadata": {},
   "outputs": [],
   "source": [
    "pd.Series(df.FlightTime.values,index=df.FlightNo).to_dict()"
   ]
  },
  {
   "cell_type": "code",
   "execution_count": null,
   "metadata": {
    "scrolled": true
   },
   "outputs": [],
   "source": [
    "pd.Series(df.FlightNo.values,index=df.FlightInfo).to_dict()"
   ]
  },
  {
   "cell_type": "code",
   "execution_count": null,
   "metadata": {},
   "outputs": [],
   "source": [
    "from IPython.display import HTML\n",
    "def View(df):\n",
    "    css = \"\"\"<style>\n",
    "    table { border-collapse: collapse; border: 3px solid #eee; }\n",
    "    table tr th:first-child { background-color: #eeeeee; color: #333; font-weight: bold }\n",
    "    table thead th { background-color: #eee; color: #000; }\n",
    "    tr, th, td { border: 1px solid #ccc; border-width: 1px 0 0 1px; border-collapse: collapse;\n",
    "    padding: 3px; font-family: monospace; font-size: 10px }</style>\n",
    "    \"\"\"\n",
    "    s  = '<script type=\"text/Javascript\">'\n",
    "    s += 'var win = window.open(\"\", \"Title\", \"toolbar=no, location=no, directories=no, status=no, menubar=no, scrollbars=yes, resizable=yes, width=780, height=200, top=\"+(screen.height-400)+\", left=\"+(screen.width-840));'\n",
    "    s += 'win.document.body.innerHTML = \\'' + (df.to_html() + css).replace(\"\\n\",'\\\\') + '\\';'\n",
    "    s += '</script>'\n",
    "    return(HTML(s+css))\n",
    "\n",
    "View(df)"
   ]
  }
 ],
 "metadata": {
  "kernelspec": {
   "display_name": "Python 3",
   "language": "python",
   "name": "python3"
  },
  "language_info": {
   "codemirror_mode": {
    "name": "ipython",
    "version": 3
   },
   "file_extension": ".py",
   "mimetype": "text/x-python",
   "name": "python",
   "nbconvert_exporter": "python",
   "pygments_lexer": "ipython3",
   "version": "3.7.3"
  },
  "toc": {
   "base_numbering": 1,
   "nav_menu": {},
   "number_sections": true,
   "sideBar": true,
   "skip_h1_title": false,
   "title_cell": "Table of Contents",
   "title_sidebar": "Contents",
   "toc_cell": false,
   "toc_position": {
    "height": "calc(100% - 180px)",
    "left": "10px",
    "top": "150px",
    "width": "511.9px"
   },
   "toc_section_display": true,
   "toc_window_display": true
  },
  "varInspector": {
   "cols": {
    "lenName": 16,
    "lenType": 16,
    "lenVar": 40
   },
   "kernels_config": {
    "python": {
     "delete_cmd_postfix": "",
     "delete_cmd_prefix": "del ",
     "library": "var_list.py",
     "varRefreshCmd": "print(var_dic_list())"
    },
    "r": {
     "delete_cmd_postfix": ") ",
     "delete_cmd_prefix": "rm(",
     "library": "var_list.r",
     "varRefreshCmd": "cat(var_dic_list()) "
    }
   },
   "position": {
    "height": "432.85px",
    "left": "1164.4px",
    "right": "20px",
    "top": "120px",
    "width": "350px"
   },
   "types_to_exclude": [
    "module",
    "function",
    "builtin_function_or_method",
    "instance",
    "_Feature"
   ],
   "window_display": false
  }
 },
 "nbformat": 4,
 "nbformat_minor": 2
}
