{
 "cells": [
  {
   "cell_type": "code",
   "execution_count": 1,
   "metadata": {},
   "outputs": [],
   "source": [
    "import pandas as pd\n",
    "import seaborn as sns\n",
    "import matplotlib.pyplot as plt\n",
    "import numpy as np"
   ]
  },
  {
   "cell_type": "code",
   "execution_count": 2,
   "metadata": {},
   "outputs": [],
   "source": [
    "import selfDefinedFunction as sdf"
   ]
  },
  {
   "cell_type": "markdown",
   "metadata": {},
   "source": [
    "# Introduction"
   ]
  },
  {
   "cell_type": "markdown",
   "metadata": {},
   "source": [
    "Background  \n",
    "Main Question  \n",
    "Methodology  \n",
    "Primary Findings(Conclusion)  \n",
    "Future Direction"
   ]
  },
  {
   "cell_type": "markdown",
   "metadata": {},
   "source": [
    "# EDA"
   ]
  },
  {
   "cell_type": "code",
   "execution_count": 3,
   "metadata": {},
   "outputs": [],
   "source": [
    "df_raw = pd.read_csv('../data/airport_choice_survey_practice_Shuai.csv')"
   ]
  },
  {
   "cell_type": "markdown",
   "metadata": {},
   "source": [
    "## Missing Values"
   ]
  },
  {
   "cell_type": "markdown",
   "metadata": {},
   "source": [
    "### Inspection"
   ]
  },
  {
   "cell_type": "markdown",
   "metadata": {},
   "source": [
    "Many variables have missing values. The variables of \"Mileage\", \"MileageAirline\", \"AccessCost\", \"FightNo\", \"Income\", \"DepartureMn\" have more than one fifth missing values. "
   ]
  },
  {
   "cell_type": "code",
   "execution_count": 4,
   "metadata": {},
   "outputs": [
    {
     "data": {
      "text/html": [
       "<div>\n",
       "<style scoped>\n",
       "    .dataframe tbody tr th:only-of-type {\n",
       "        vertical-align: middle;\n",
       "    }\n",
       "\n",
       "    .dataframe tbody tr th {\n",
       "        vertical-align: top;\n",
       "    }\n",
       "\n",
       "    .dataframe thead th {\n",
       "        text-align: right;\n",
       "    }\n",
       "</style>\n",
       "<table border=\"1\" class=\"dataframe\">\n",
       "  <thead>\n",
       "    <tr style=\"text-align: right;\">\n",
       "      <th></th>\n",
       "      <th>index</th>\n",
       "      <th>Count_rawData</th>\n",
       "      <th>Percentage_rawData</th>\n",
       "    </tr>\n",
       "  </thead>\n",
       "  <tbody>\n",
       "    <tr>\n",
       "      <th>0</th>\n",
       "      <td>ID</td>\n",
       "      <td>0</td>\n",
       "      <td>0.00</td>\n",
       "    </tr>\n",
       "    <tr>\n",
       "      <th>1</th>\n",
       "      <td>Airport</td>\n",
       "      <td>0</td>\n",
       "      <td>0.00</td>\n",
       "    </tr>\n",
       "    <tr>\n",
       "      <th>2</th>\n",
       "      <td>Airline</td>\n",
       "      <td>10</td>\n",
       "      <td>2.05</td>\n",
       "    </tr>\n",
       "    <tr>\n",
       "      <th>3</th>\n",
       "      <td>Age</td>\n",
       "      <td>1</td>\n",
       "      <td>0.20</td>\n",
       "    </tr>\n",
       "    <tr>\n",
       "      <th>4</th>\n",
       "      <td>Gender</td>\n",
       "      <td>3</td>\n",
       "      <td>0.61</td>\n",
       "    </tr>\n",
       "    <tr>\n",
       "      <th>5</th>\n",
       "      <td>Nationality</td>\n",
       "      <td>0</td>\n",
       "      <td>0.00</td>\n",
       "    </tr>\n",
       "    <tr>\n",
       "      <th>6</th>\n",
       "      <td>TripPurpose</td>\n",
       "      <td>0</td>\n",
       "      <td>0.00</td>\n",
       "    </tr>\n",
       "    <tr>\n",
       "      <th>7</th>\n",
       "      <td>TripDuration</td>\n",
       "      <td>0</td>\n",
       "      <td>0.00</td>\n",
       "    </tr>\n",
       "    <tr>\n",
       "      <th>8</th>\n",
       "      <td>FlyingCompanion</td>\n",
       "      <td>0</td>\n",
       "      <td>0.00</td>\n",
       "    </tr>\n",
       "    <tr>\n",
       "      <th>9</th>\n",
       "      <td>ProvinceResidence</td>\n",
       "      <td>0</td>\n",
       "      <td>0.00</td>\n",
       "    </tr>\n",
       "    <tr>\n",
       "      <th>10</th>\n",
       "      <td>GroupTravel</td>\n",
       "      <td>0</td>\n",
       "      <td>0.00</td>\n",
       "    </tr>\n",
       "    <tr>\n",
       "      <th>11</th>\n",
       "      <td>NoTripsLastYear</td>\n",
       "      <td>0</td>\n",
       "      <td>0.00</td>\n",
       "    </tr>\n",
       "    <tr>\n",
       "      <th>12</th>\n",
       "      <td>FrequentFlightDestination</td>\n",
       "      <td>0</td>\n",
       "      <td>0.00</td>\n",
       "    </tr>\n",
       "    <tr>\n",
       "      <th>13</th>\n",
       "      <td>Destination</td>\n",
       "      <td>5</td>\n",
       "      <td>1.02</td>\n",
       "    </tr>\n",
       "    <tr>\n",
       "      <th>14</th>\n",
       "      <td>FlightNo</td>\n",
       "      <td>142</td>\n",
       "      <td>29.10</td>\n",
       "    </tr>\n",
       "    <tr>\n",
       "      <th>15</th>\n",
       "      <td>DepartureHr</td>\n",
       "      <td>33</td>\n",
       "      <td>6.76</td>\n",
       "    </tr>\n",
       "    <tr>\n",
       "      <th>16</th>\n",
       "      <td>DepartureMn</td>\n",
       "      <td>120</td>\n",
       "      <td>24.59</td>\n",
       "    </tr>\n",
       "    <tr>\n",
       "      <th>17</th>\n",
       "      <td>DepartureTime</td>\n",
       "      <td>0</td>\n",
       "      <td>0.00</td>\n",
       "    </tr>\n",
       "    <tr>\n",
       "      <th>18</th>\n",
       "      <td>SeatClass</td>\n",
       "      <td>4</td>\n",
       "      <td>0.82</td>\n",
       "    </tr>\n",
       "    <tr>\n",
       "      <th>19</th>\n",
       "      <td>Airfare</td>\n",
       "      <td>155</td>\n",
       "      <td>31.76</td>\n",
       "    </tr>\n",
       "    <tr>\n",
       "      <th>20</th>\n",
       "      <td>NoTransport</td>\n",
       "      <td>0</td>\n",
       "      <td>0.00</td>\n",
       "    </tr>\n",
       "    <tr>\n",
       "      <th>21</th>\n",
       "      <td>ModeTransport</td>\n",
       "      <td>0</td>\n",
       "      <td>0.00</td>\n",
       "    </tr>\n",
       "    <tr>\n",
       "      <th>22</th>\n",
       "      <td>AccessCost</td>\n",
       "      <td>197</td>\n",
       "      <td>40.37</td>\n",
       "    </tr>\n",
       "    <tr>\n",
       "      <th>23</th>\n",
       "      <td>AccessTime</td>\n",
       "      <td>97</td>\n",
       "      <td>19.88</td>\n",
       "    </tr>\n",
       "    <tr>\n",
       "      <th>24</th>\n",
       "      <td>Occupation</td>\n",
       "      <td>0</td>\n",
       "      <td>0.00</td>\n",
       "    </tr>\n",
       "    <tr>\n",
       "      <th>25</th>\n",
       "      <td>Income</td>\n",
       "      <td>132</td>\n",
       "      <td>27.05</td>\n",
       "    </tr>\n",
       "    <tr>\n",
       "      <th>26</th>\n",
       "      <td>MileageAirline</td>\n",
       "      <td>237</td>\n",
       "      <td>48.57</td>\n",
       "    </tr>\n",
       "    <tr>\n",
       "      <th>27</th>\n",
       "      <td>Mileage</td>\n",
       "      <td>398</td>\n",
       "      <td>81.56</td>\n",
       "    </tr>\n",
       "  </tbody>\n",
       "</table>\n",
       "</div>"
      ],
      "text/plain": [
       "                        index  Count_rawData  Percentage_rawData\n",
       "0                          ID              0                0.00\n",
       "1                     Airport              0                0.00\n",
       "2                     Airline             10                2.05\n",
       "3                         Age              1                0.20\n",
       "4                      Gender              3                0.61\n",
       "5                 Nationality              0                0.00\n",
       "6                 TripPurpose              0                0.00\n",
       "7                TripDuration              0                0.00\n",
       "8             FlyingCompanion              0                0.00\n",
       "9           ProvinceResidence              0                0.00\n",
       "10                GroupTravel              0                0.00\n",
       "11            NoTripsLastYear              0                0.00\n",
       "12  FrequentFlightDestination              0                0.00\n",
       "13                Destination              5                1.02\n",
       "14                   FlightNo            142               29.10\n",
       "15                DepartureHr             33                6.76\n",
       "16                DepartureMn            120               24.59\n",
       "17              DepartureTime              0                0.00\n",
       "18                  SeatClass              4                0.82\n",
       "19                    Airfare            155               31.76\n",
       "20                NoTransport              0                0.00\n",
       "21              ModeTransport              0                0.00\n",
       "22                 AccessCost            197               40.37\n",
       "23                 AccessTime             97               19.88\n",
       "24                 Occupation              0                0.00\n",
       "25                     Income            132               27.05\n",
       "26             MileageAirline            237               48.57\n",
       "27                    Mileage            398               81.56"
      ]
     },
     "execution_count": 4,
     "metadata": {},
     "output_type": "execute_result"
    }
   ],
   "source": [
    "missingValueRaw = sdf.sumMissing(df_raw).rename(columns={0: 'Count_rawData', 1: 'Percentage_rawData'})\n",
    "missingValueRaw = missingValueRaw.reset_index()\n",
    "missingValueRaw"
   ]
  },
  {
   "cell_type": "code",
   "execution_count": 5,
   "metadata": {
    "scrolled": false
   },
   "outputs": [
    {
     "data": {
      "image/png": "[encoded data removed]",
      "text/plain": [
       "<Figure size 842.4x595.44 with 1 Axes>"
      ]
     },
     "metadata": {
      "needs_background": "light"
     },
     "output_type": "display_data"
    }
   ],
   "source": [
    "sdf.horzBarPlot(missingValueRaw,'Percentage_rawData','index')"
   ]
  },
  {
   "cell_type": "markdown",
   "metadata": {},
   "source": [
    "### Principles for dealing with missing values \n",
    "\n",
    "Considering the small data set(488 records), the project team cannot drop records with missing values. The strategy of \"best reasonable guess\" will be applied in filling the missing data under the following princples:  \n",
    "\n",
    "(1) __Airline, Airport, Destination, FlightNo, DepartureHr, DepartureMn__:  \n",
    "    These six variables are correlated. The project team will manually cross check all existing information and missing values within the dataset, and also, double check the flight details from the airport's website to rectify the miss spelling flight number and inaccurate departure time, airport information, etc. The categorical missing values which cannot be inferred from other relevant variables will be filled with \"NotRespond,\" and the numerical missing values will be replaced with 0.    \n",
    "    \n",
    "(2) __Gender__:  \n",
    "Missing values will be replaced as \"NotRespond\".  \n",
    "\n",
    "(3) __Age__:  \n",
    "Missing values will be filled with mode number.  \n",
    "\n",
    "(4) __Seat Class__:  \n",
    "Missing values will be filled with mode number.  \n",
    "\n",
    "(5) __Airfare__:  \n",
    "Missing values will be replaced as following sequential steps:  \n",
    "a. median \"Airfare\" with the same \"FilightNo\" and \"SeatClass\";  \n",
    "b. median \"Airfare\" with the same \"FlightNo\";  \n",
    "c. median \"Airfare\" with the same \"Destination\";  \n",
    "d. median \"Airfare\". \n",
    "\n",
    "(6) __AccessCost__: \n",
    "Missing values will be replaced as following sequential steps:  \n",
    "a. median \"AccessCost\" with the same \"Airport\", \"ProvinceResidence\", \"ModeTRansport\" and \"NoTRansport\";  \n",
    "b. median \"AccessCost\" with the same \"Airport\", \"ProvinceResidence\", and \"ModeTRansport\";  \n",
    "c. median \"AccessCost\" with the same \"Airport\" and \"ProvinceResidence\";  \n",
    "d. median \"AccessCost\". \n",
    " \n",
    "(7) __AccessTime__: \n",
    "Missing values will be replaced as following sequential steps:  \n",
    "a. median \"AccessTime\" with the same \"Airport\", \"ProvinceResidence\", \"ModeTRansport\" and \"NoTRansport\";  \n",
    "b. median \"AccessTime\" with the same \"Airport\", \"ProvinceResidence\", and \"ModeTRansport\";  \n",
    "c. median \"AccessTime\" with the same \"Airport\" and \"ProvinceResidence\";  \n",
    "d. median \"AccessTime\". \n",
    " \n",
    "(8) __Income__:  \n",
    "Missing values will be replaced as following sequential steps:  \n",
    "a. median \"Income\" with the same \"ProvinceResidence\", \"Occupation\" and \"Age\";  \n",
    "b. median \"Income\" with the same \"ProvinceResidence\" and \"Occupation\";  \n",
    "c. median \"Income\" with the same \"ProvinceResidence\".  \n",
    "\n",
    "(9) __Destination__:  \n",
    "Missing values will be replaced as \"NotRespond\". \n",
    "\n",
    "(10) __MieageAirline and Mileage__:  \n",
    "These two columns will be dropped, because the passengers' membership and mileage do not related to the transportation mode. "
   ]
  },
  {
   "cell_type": "markdown",
   "metadata": {},
   "source": [
    "### Data Cleaning"
   ]
  },
  {
   "cell_type": "markdown",
   "metadata": {},
   "source": [
    "#### Airline, Destination, FlightNo, DepartureHr, DepartureMn\n",
    "This part is proceeded manually in Excel. "
   ]
  },
  {
   "cell_type": "code",
   "execution_count": 6,
   "metadata": {},
   "outputs": [],
   "source": [
    "df = pd.read_csv('../data/airport_choice_survey_practice_updated_Shuai.csv')"
   ]
  },
  {
   "cell_type": "code",
   "execution_count": 7,
   "metadata": {},
   "outputs": [
    {
     "data": {
      "text/html": [
       "<div>\n",
       "<style scoped>\n",
       "    .dataframe tbody tr th:only-of-type {\n",
       "        vertical-align: middle;\n",
       "    }\n",
       "\n",
       "    .dataframe tbody tr th {\n",
       "        vertical-align: top;\n",
       "    }\n",
       "\n",
       "    .dataframe thead th {\n",
       "        text-align: right;\n",
       "    }\n",
       "</style>\n",
       "<table border=\"1\" class=\"dataframe\">\n",
       "  <thead>\n",
       "    <tr style=\"text-align: right;\">\n",
       "      <th></th>\n",
       "      <th>index</th>\n",
       "      <th>Count_rawData</th>\n",
       "      <th>Percentage_rawData</th>\n",
       "      <th>Count_1</th>\n",
       "      <th>Percentage_1</th>\n",
       "      <th>decrease</th>\n",
       "    </tr>\n",
       "  </thead>\n",
       "  <tbody>\n",
       "    <tr>\n",
       "      <th>2</th>\n",
       "      <td>Airline</td>\n",
       "      <td>10</td>\n",
       "      <td>2.05</td>\n",
       "      <td>0</td>\n",
       "      <td>0.0</td>\n",
       "      <td>2.05</td>\n",
       "    </tr>\n",
       "    <tr>\n",
       "      <th>13</th>\n",
       "      <td>Destination</td>\n",
       "      <td>5</td>\n",
       "      <td>1.02</td>\n",
       "      <td>0</td>\n",
       "      <td>0.0</td>\n",
       "      <td>1.02</td>\n",
       "    </tr>\n",
       "    <tr>\n",
       "      <th>14</th>\n",
       "      <td>FlightNo</td>\n",
       "      <td>142</td>\n",
       "      <td>29.10</td>\n",
       "      <td>0</td>\n",
       "      <td>0.0</td>\n",
       "      <td>29.10</td>\n",
       "    </tr>\n",
       "    <tr>\n",
       "      <th>15</th>\n",
       "      <td>DepartureHr</td>\n",
       "      <td>33</td>\n",
       "      <td>6.76</td>\n",
       "      <td>0</td>\n",
       "      <td>0.0</td>\n",
       "      <td>6.76</td>\n",
       "    </tr>\n",
       "    <tr>\n",
       "      <th>16</th>\n",
       "      <td>DepartureMn</td>\n",
       "      <td>120</td>\n",
       "      <td>24.59</td>\n",
       "      <td>0</td>\n",
       "      <td>0.0</td>\n",
       "      <td>24.59</td>\n",
       "    </tr>\n",
       "  </tbody>\n",
       "</table>\n",
       "</div>"
      ],
      "text/plain": [
       "          index  Count_rawData  Percentage_rawData  Count_1  Percentage_1  \\\n",
       "2       Airline             10                2.05        0           0.0   \n",
       "13  Destination              5                1.02        0           0.0   \n",
       "14     FlightNo            142               29.10        0           0.0   \n",
       "15  DepartureHr             33                6.76        0           0.0   \n",
       "16  DepartureMn            120               24.59        0           0.0   \n",
       "\n",
       "    decrease  \n",
       "2       2.05  \n",
       "13      1.02  \n",
       "14     29.10  \n",
       "15      6.76  \n",
       "16     24.59  "
      ]
     },
     "execution_count": 7,
     "metadata": {},
     "output_type": "execute_result"
    }
   ],
   "source": [
    "missingValue_1 = sdf.sumMissing(df).rename(columns={0: 'Count_1', 1: 'Percentage_1'})\n",
    "missingValue_1 = missingValue_1.reset_index()\n",
    "compare = sdf.compareDF(missingValueRaw,missingValue_1)\n",
    "compare['decrease'] = compare['Percentage_rawData'] - compare['Percentage_1']\n",
    "compare.iloc[['2','13','14','15','16']]"
   ]
  },
  {
   "cell_type": "markdown",
   "metadata": {},
   "source": [
    "After fixing the data of __Airline, Destination, FlightNo, DepartureHr, DepartureMn__, the rate of missing value of these four variable have decreased to Zero."
   ]
  },
  {
   "cell_type": "markdown",
   "metadata": {},
   "source": [
    "#### Gender"
   ]
  },
  {
   "cell_type": "code",
   "execution_count": 8,
   "metadata": {},
   "outputs": [],
   "source": [
    "df['Gender'].fillna('NotRespond', inplace=True)"
   ]
  },
  {
   "cell_type": "markdown",
   "metadata": {},
   "source": [
    "#### Seat Class"
   ]
  },
  {
   "cell_type": "code",
   "execution_count": 9,
   "metadata": {},
   "outputs": [],
   "source": [
    "df['SeatClass'].fillna(df['SeatClass'].mode()[0], inplace=True)"
   ]
  },
  {
   "cell_type": "code",
   "execution_count": 10,
   "metadata": {
    "scrolled": true
   },
   "outputs": [
    {
     "data": {
      "text/plain": [
       "index           SeatClass\n",
       "Count_1                 4\n",
       "Percentage_1         0.82\n",
       "Count_2                 0\n",
       "Percentage_2            0\n",
       "decrease             0.82\n",
       "Name: 18, dtype: object"
      ]
     },
     "execution_count": 10,
     "metadata": {},
     "output_type": "execute_result"
    }
   ],
   "source": [
    "missingValue_2 = sdf.sumMissing(df).rename(columns={0: 'Count_2', 1: 'Percentage_2'})\n",
    "missingValue_2 = missingValue_2.reset_index()\n",
    "compare = sdf.compareDF(missingValue_1,missingValue_2)\n",
    "compare['decrease'] = compare['Percentage_1'] - compare['Percentage_2']\n",
    "compare.iloc[18]"
   ]
  },
  {
   "cell_type": "markdown",
   "metadata": {},
   "source": [
    "After fixing the data of __SeatClass__, the rate of missing value of this variable have decreased by 0.82%. There is no missing value at this variable. "
   ]
  },
  {
   "cell_type": "markdown",
   "metadata": {},
   "source": [
    "#### Airfare"
   ]
  },
  {
   "cell_type": "markdown",
   "metadata": {},
   "source": [
    "##### median \"Airfare\" with the same \"FilightNo\" and \"SeatClass\""
   ]
  },
  {
   "cell_type": "code",
   "execution_count": 11,
   "metadata": {},
   "outputs": [],
   "source": [
    "df = sdf.fillAirfare(df,['FlightNo','SeatClass','Airfare'],['FlightNo','SeatClass'] )"
   ]
  },
  {
   "cell_type": "code",
   "execution_count": 12,
   "metadata": {},
   "outputs": [
    {
     "data": {
      "text/plain": [
       "index           Airfare\n",
       "Count_2             155\n",
       "Percentage_2      31.76\n",
       "Count_3              36\n",
       "Percentage_3       7.38\n",
       "decrease          24.38\n",
       "Name: 19, dtype: object"
      ]
     },
     "execution_count": 12,
     "metadata": {},
     "output_type": "execute_result"
    }
   ],
   "source": [
    "missingValue_3 = sdf.sumMissing(df).rename(columns={0: 'Count_3', 1: 'Percentage_3'})\n",
    "missingValue_3 = missingValue_3.reset_index()\n",
    "compare = sdf.compareDF(missingValue_2,missingValue_3)\n",
    "compare['decrease'] = compare['Percentage_2'] - compare['Percentage_3']\n",
    "compare.iloc[19]"
   ]
  },
  {
   "cell_type": "markdown",
   "metadata": {},
   "source": [
    "Missing rate of __Airfare__ decrease by 19.87%."
   ]
  },
  {
   "cell_type": "markdown",
   "metadata": {},
   "source": [
    "##### median \"Airfare\" with the same \"FlightNo\""
   ]
  },
  {
   "cell_type": "code",
   "execution_count": 13,
   "metadata": {},
   "outputs": [],
   "source": [
    "df = sdf.fillAirfare(df,['FlightNo','Airfare'],['FlightNo'] )"
   ]
  },
  {
   "cell_type": "code",
   "execution_count": 14,
   "metadata": {
    "scrolled": true
   },
   "outputs": [
    {
     "data": {
      "text/plain": [
       "index           Airfare\n",
       "Count_3              36\n",
       "Percentage_3       7.38\n",
       "Count_4              27\n",
       "Percentage_4       5.53\n",
       "decrease           1.85\n",
       "Name: 19, dtype: object"
      ]
     },
     "execution_count": 14,
     "metadata": {},
     "output_type": "execute_result"
    }
   ],
   "source": [
    "missingValue_4 = sdf.sumMissing(df).rename(columns={0: 'Count_4', 1: 'Percentage_4'})\n",
    "missingValue_4 = missingValue_4.reset_index()\n",
    "compare = sdf.compareDF(missingValue_3,missingValue_4)\n",
    "compare['decrease'] = compare['Percentage_3'] - compare['Percentage_4']\n",
    "compare.iloc[19]"
   ]
  },
  {
   "cell_type": "markdown",
   "metadata": {},
   "source": [
    "Missing rate of __Airfare__ decrease by 1.44%."
   ]
  },
  {
   "cell_type": "markdown",
   "metadata": {},
   "source": [
    "##### median \"Airfare\" with the same \"Destination\""
   ]
  },
  {
   "cell_type": "code",
   "execution_count": 15,
   "metadata": {},
   "outputs": [],
   "source": [
    "df = sdf.fillAirfare(df,['Destination','Airfare'],['Destination'] )"
   ]
  },
  {
   "cell_type": "code",
   "execution_count": 16,
   "metadata": {
    "scrolled": true
   },
   "outputs": [
    {
     "data": {
      "text/plain": [
       "index           Airfare\n",
       "Count_4              27\n",
       "Percentage_4       5.53\n",
       "Count_5               0\n",
       "Percentage_5          0\n",
       "decrease           5.53\n",
       "Name: 19, dtype: object"
      ]
     },
     "execution_count": 16,
     "metadata": {},
     "output_type": "execute_result"
    }
   ],
   "source": [
    "missingValue_5 = sdf.sumMissing(df).rename(columns={0: 'Count_5', 1: 'Percentage_5'})\n",
    "missingValue_5 = missingValue_5.reset_index()\n",
    "compare = sdf.compareDF(missingValue_4,missingValue_5)\n",
    "compare['decrease'] = compare['Percentage_4'] - compare['Percentage_5']\n",
    "compare.iloc[19]"
   ]
  },
  {
   "cell_type": "markdown",
   "metadata": {},
   "source": [
    "Missing rate of __Airfare__ decrease by 10.04%. Now, the missing rate of __Airfare__ is 0.41%."
   ]
  },
  {
   "cell_type": "markdown",
   "metadata": {},
   "source": [
    "##### median \"Airfare\""
   ]
  },
  {
   "cell_type": "code",
   "execution_count": 17,
   "metadata": {},
   "outputs": [],
   "source": [
    "df['Airfare'].fillna(df['Airfare'].mode()[0], inplace=True)"
   ]
  },
  {
   "cell_type": "markdown",
   "metadata": {},
   "source": [
    "#### AccessCost "
   ]
  },
  {
   "cell_type": "markdown",
   "metadata": {},
   "source": [
    "##### median \"AccessCost\" with the same \"Airport\", \"ProvinceResidence\", \"ModeTRansport\" and \"NoTRansport\""
   ]
  },
  {
   "cell_type": "code",
   "execution_count": 18,
   "metadata": {},
   "outputs": [],
   "source": [
    "df = sdf.fillAccessCost(df,['Airport','AccessCost', 'ProvinceResidence', 'NoTransport', 'ModeTransport'],['Airport','ProvinceResidence', 'NoTransport', 'ModeTransport'])"
   ]
  },
  {
   "cell_type": "code",
   "execution_count": 19,
   "metadata": {
    "scrolled": true
   },
   "outputs": [
    {
     "data": {
      "text/plain": [
       "index           AccessCost\n",
       "Count_5                197\n",
       "Percentage_5         40.37\n",
       "Count_6                 58\n",
       "Percentage_6         11.89\n",
       "decrease             28.48\n",
       "Name: 22, dtype: object"
      ]
     },
     "execution_count": 19,
     "metadata": {},
     "output_type": "execute_result"
    }
   ],
   "source": [
    "missingValue_6 = sdf.sumMissing(df).rename(columns={0: 'Count_6', 1: 'Percentage_6'})\n",
    "missingValue_6 = missingValue_6.reset_index()\n",
    "compare = sdf.compareDF(missingValue_5,missingValue_6)\n",
    "compare['decrease'] = compare['Percentage_5'] - compare['Percentage_6']\n",
    "compare.iloc[22]"
   ]
  },
  {
   "cell_type": "markdown",
   "metadata": {},
   "source": [
    "Missing rate of __AccessCost__ decrease by 28.48%. Now, the missing rate of AccessCost is 11.89%."
   ]
  },
  {
   "cell_type": "markdown",
   "metadata": {},
   "source": [
    "##### median \"AccessCost\" with the same \"Airport\", \"ProvinceResidence\", and \"ModeTRansport\""
   ]
  },
  {
   "cell_type": "code",
   "execution_count": 20,
   "metadata": {},
   "outputs": [],
   "source": [
    "df = sdf.fillAccessCost(df,['Airport','AccessCost', 'ProvinceResidence', 'ModeTransport'],['Airport','ProvinceResidence', 'ModeTransport'])"
   ]
  },
  {
   "cell_type": "code",
   "execution_count": 21,
   "metadata": {},
   "outputs": [
    {
     "data": {
      "text/plain": [
       "index           AccessCost\n",
       "Count_6                 58\n",
       "Percentage_6         11.89\n",
       "Count_7                 49\n",
       "Percentage_7         10.04\n",
       "decrease              1.85\n",
       "Name: 22, dtype: object"
      ]
     },
     "execution_count": 21,
     "metadata": {},
     "output_type": "execute_result"
    }
   ],
   "source": [
    "missingValue_7 = sdf.sumMissing(df).rename(columns={0: 'Count_7', 1: 'Percentage_7'})\n",
    "missingValue_7 = missingValue_7.reset_index()\n",
    "compare = sdf.compareDF(missingValue_6,missingValue_7)\n",
    "compare['decrease'] = compare['Percentage_6'] - compare['Percentage_7']\n",
    "compare.iloc[22]"
   ]
  },
  {
   "cell_type": "markdown",
   "metadata": {},
   "source": [
    "Missing rate of __AccessCost__ decrease by 1.85%. Now, the missing rate of AccessCost is 10.04%."
   ]
  },
  {
   "cell_type": "markdown",
   "metadata": {},
   "source": [
    "##### median \"AccessCost\" with the same \"Airport\" and \"ProvinceResidence\""
   ]
  },
  {
   "cell_type": "code",
   "execution_count": 22,
   "metadata": {},
   "outputs": [],
   "source": [
    "df = sdf.fillAccessCost(df,['Airport','AccessCost', 'ProvinceResidence'],['Airport','ProvinceResidence'])"
   ]
  },
  {
   "cell_type": "code",
   "execution_count": 23,
   "metadata": {},
   "outputs": [
    {
     "data": {
      "text/plain": [
       "index           AccessCost\n",
       "Count_7                 49\n",
       "Percentage_7         10.04\n",
       "Count_8                  0\n",
       "Percentage_8             0\n",
       "decrease             10.04\n",
       "Name: 22, dtype: object"
      ]
     },
     "execution_count": 23,
     "metadata": {},
     "output_type": "execute_result"
    }
   ],
   "source": [
    "missingValue_8 = sdf.sumMissing(df).rename(columns={0: 'Count_8', 1: 'Percentage_8'})\n",
    "missingValue_8 = missingValue_8.reset_index()\n",
    "compare = sdf.compareDF(missingValue_7,missingValue_8)\n",
    "compare['decrease'] = compare['Percentage_7'] - compare['Percentage_8']\n",
    "compare.iloc[22]"
   ]
  },
  {
   "cell_type": "markdown",
   "metadata": {},
   "source": [
    "Missing rate of __AccessCost__ decrease by 10.04%. Now, the missing rate of AccessCost is zero."
   ]
  },
  {
   "cell_type": "markdown",
   "metadata": {},
   "source": [
    "#### AccessTime"
   ]
  },
  {
   "cell_type": "markdown",
   "metadata": {},
   "source": [
    "##### median \"AccessTime\" with the same \"Airport\", \"ProvinceResidence\", \"ModeTRansport\" and \"NoTRansport\""
   ]
  },
  {
   "cell_type": "code",
   "execution_count": 24,
   "metadata": {},
   "outputs": [],
   "source": [
    "df = sdf.fillAccessTime(df,['Airport','AccessTime', 'ProvinceResidence', 'ModeTransport', 'NoTransport'],['Airport', 'ProvinceResidence', 'ModeTransport', 'NoTransport'])"
   ]
  },
  {
   "cell_type": "code",
   "execution_count": 25,
   "metadata": {},
   "outputs": [
    {
     "data": {
      "text/plain": [
       "index           AccessTime\n",
       "Count_8                 97\n",
       "Percentage_8         19.88\n",
       "Count_9                 17\n",
       "Percentage_9          3.48\n",
       "decrease              16.4\n",
       "Name: 23, dtype: object"
      ]
     },
     "execution_count": 25,
     "metadata": {},
     "output_type": "execute_result"
    }
   ],
   "source": [
    "missingValue_9 = sdf.sumMissing(df).rename(columns={0: 'Count_9', 1: 'Percentage_9'})\n",
    "missingValue_9 = missingValue_9.reset_index()\n",
    "compare = sdf.compareDF(missingValue_8,missingValue_9)\n",
    "compare['decrease'] = compare['Percentage_8'] - compare['Percentage_9']\n",
    "compare.iloc[23]"
   ]
  },
  {
   "cell_type": "markdown",
   "metadata": {},
   "source": [
    "Missing rate of __AccessTime__ decrease by 16.4%. Now, the missing rate of AccessTime is 3.48%."
   ]
  },
  {
   "cell_type": "markdown",
   "metadata": {},
   "source": [
    "##### median \"AccessTime\" with the same \"Airport\", \"ProvinceResidence\", and \"ModeTRansport\""
   ]
  },
  {
   "cell_type": "code",
   "execution_count": 26,
   "metadata": {},
   "outputs": [],
   "source": [
    "df = sdf.fillAccessTime(df,['Airport','AccessTime', 'ProvinceResidence', 'ModeTransport'],['Airport', 'ProvinceResidence', 'ModeTransport'])"
   ]
  },
  {
   "cell_type": "code",
   "execution_count": 27,
   "metadata": {},
   "outputs": [
    {
     "data": {
      "text/plain": [
       "index            AccessTime\n",
       "Count_9                  17\n",
       "Percentage_9           3.48\n",
       "Count_10                 11\n",
       "Percentage_10          2.25\n",
       "decrease               1.23\n",
       "Name: 23, dtype: object"
      ]
     },
     "execution_count": 27,
     "metadata": {},
     "output_type": "execute_result"
    }
   ],
   "source": [
    "missingValue_10 = sdf.sumMissing(df).rename(columns={0: 'Count_10', 1: 'Percentage_10'})\n",
    "missingValue_10 = missingValue_10.reset_index()\n",
    "compare = sdf.compareDF(missingValue_9,missingValue_10)\n",
    "compare['decrease'] = compare['Percentage_9'] - compare['Percentage_10']\n",
    "compare.iloc[23]"
   ]
  },
  {
   "cell_type": "markdown",
   "metadata": {},
   "source": [
    "Missing rate of __AccessTime__ decrease by 1.23%. Now, the missing rate of AccessTime is 2.25%."
   ]
  },
  {
   "cell_type": "markdown",
   "metadata": {},
   "source": [
    "##### median \"AccessTime\" with the same \"Airport\" and \"ProvinceResidence\""
   ]
  },
  {
   "cell_type": "code",
   "execution_count": 28,
   "metadata": {},
   "outputs": [],
   "source": [
    "df = sdf.fillAccessTime(df,['Airport','AccessTime', 'ProvinceResidence'],['Airport', 'ProvinceResidence'])"
   ]
  },
  {
   "cell_type": "code",
   "execution_count": 29,
   "metadata": {},
   "outputs": [
    {
     "data": {
      "text/plain": [
       "index            AccessTime\n",
       "Count_10                 11\n",
       "Percentage_10          2.25\n",
       "Count_11                  0\n",
       "Percentage_11             0\n",
       "decrease               2.25\n",
       "Name: 23, dtype: object"
      ]
     },
     "execution_count": 29,
     "metadata": {},
     "output_type": "execute_result"
    }
   ],
   "source": [
    "missingValue_11 = sdf.sumMissing(df).rename(columns={0: 'Count_11', 1: 'Percentage_11'})\n",
    "missingValue_11 = missingValue_11.reset_index()\n",
    "compare = sdf.compareDF(missingValue_10,missingValue_11)\n",
    "compare['decrease'] = compare['Percentage_10'] - compare['Percentage_11']\n",
    "compare.iloc[23]"
   ]
  },
  {
   "cell_type": "markdown",
   "metadata": {},
   "source": [
    "Missing rate of __AccessTime__ decrease by 2.25%. Now, the missing rate of AccessTime is Zero."
   ]
  },
  {
   "cell_type": "markdown",
   "metadata": {},
   "source": [
    "#### Income"
   ]
  },
  {
   "cell_type": "markdown",
   "metadata": {},
   "source": [
    "##### median \"Income\" with the same \"ProvinceResidence\", \"Occupation\" and \"Age\""
   ]
  },
  {
   "cell_type": "code",
   "execution_count": 30,
   "metadata": {},
   "outputs": [],
   "source": [
    "df = sdf.fillIncome(df,['Income','Age', 'Occupation','ProvinceResidence'],['Age', 'Occupation','ProvinceResidence'])"
   ]
  },
  {
   "cell_type": "code",
   "execution_count": 31,
   "metadata": {},
   "outputs": [
    {
     "data": {
      "text/plain": [
       "index            Income\n",
       "Count_11            132\n",
       "Percentage_11     27.05\n",
       "Count_12            117\n",
       "Percentage_12     23.98\n",
       "decrease           3.07\n",
       "Name: 25, dtype: object"
      ]
     },
     "execution_count": 31,
     "metadata": {},
     "output_type": "execute_result"
    }
   ],
   "source": [
    "missingValue_12 = sdf.sumMissing(df).rename(columns={0: 'Count_12', 1: 'Percentage_12'})\n",
    "missingValue_12 = missingValue_12.reset_index()\n",
    "compare = sdf.compareDF(missingValue_11,missingValue_12)\n",
    "compare['decrease'] = compare['Percentage_11'] - compare['Percentage_12']\n",
    "compare.iloc[25]"
   ]
  },
  {
   "cell_type": "markdown",
   "metadata": {},
   "source": [
    "Missing rate of __Income__ decrease by 3.07%. Now, the missing rate of Income is 23.98%."
   ]
  },
  {
   "cell_type": "markdown",
   "metadata": {},
   "source": [
    "##### median \"Income\" with the same \"ProvinceResidence\" and \"Occupation\" "
   ]
  },
  {
   "cell_type": "code",
   "execution_count": 32,
   "metadata": {},
   "outputs": [],
   "source": [
    "df = sdf.fillIncome(df,['Income','Occupation','ProvinceResidence'],['Occupation','ProvinceResidence'])"
   ]
  },
  {
   "cell_type": "code",
   "execution_count": 33,
   "metadata": {},
   "outputs": [
    {
     "data": {
      "text/plain": [
       "index            Income\n",
       "Count_12            117\n",
       "Percentage_12     23.98\n",
       "Count_13             23\n",
       "Percentage_13      4.71\n",
       "decrease          19.27\n",
       "Name: 25, dtype: object"
      ]
     },
     "execution_count": 33,
     "metadata": {},
     "output_type": "execute_result"
    }
   ],
   "source": [
    "missingValue_13 = sdf.sumMissing(df).rename(columns={0: 'Count_13', 1: 'Percentage_13'})\n",
    "missingValue_13 = missingValue_13.reset_index()\n",
    "compare = sdf.compareDF(missingValue_12,missingValue_13)\n",
    "compare['decrease'] = compare['Percentage_12'] - compare['Percentage_13']\n",
    "compare.iloc[25]"
   ]
  },
  {
   "cell_type": "markdown",
   "metadata": {},
   "source": [
    "Missing rate of __Income__ decrease by 19.27%. Now, the missing rate of Income is 4.7%."
   ]
  },
  {
   "cell_type": "markdown",
   "metadata": {},
   "source": [
    "##### median \"Income\" with the same \"ProvinceResidence\""
   ]
  },
  {
   "cell_type": "code",
   "execution_count": 34,
   "metadata": {},
   "outputs": [],
   "source": [
    "df = sdf.fillIncome(df,['Income','ProvinceResidence'],['ProvinceResidence'])"
   ]
  },
  {
   "cell_type": "code",
   "execution_count": 35,
   "metadata": {},
   "outputs": [
    {
     "data": {
      "text/plain": [
       "index            Income\n",
       "Count_13             23\n",
       "Percentage_13      4.71\n",
       "Count_14              0\n",
       "Percentage_14         0\n",
       "decrease           4.71\n",
       "Name: 25, dtype: object"
      ]
     },
     "execution_count": 35,
     "metadata": {},
     "output_type": "execute_result"
    }
   ],
   "source": [
    "missingValue_14 = sdf.sumMissing(df).rename(columns={0: 'Count_14', 1: 'Percentage_14'})\n",
    "missingValue_14 = missingValue_14.reset_index()\n",
    "compare = sdf.compareDF(missingValue_13,missingValue_14)\n",
    "compare['decrease'] = compare['Percentage_13'] - compare['Percentage_14']\n",
    "compare.iloc[25]"
   ]
  },
  {
   "cell_type": "markdown",
   "metadata": {},
   "source": [
    "Missing rate of __Income__ decrease by 4.71%. Now, the missing rate of Income is Zero."
   ]
  },
  {
   "cell_type": "markdown",
   "metadata": {},
   "source": [
    "#### Age"
   ]
  },
  {
   "cell_type": "markdown",
   "metadata": {},
   "source": [
    "##### Missing Age will be filled with mode. "
   ]
  },
  {
   "cell_type": "code",
   "execution_count": 36,
   "metadata": {},
   "outputs": [],
   "source": [
    "df['Age'].fillna(df['Age'].mode()[0], inplace=True)"
   ]
  },
  {
   "cell_type": "code",
   "execution_count": 37,
   "metadata": {
    "scrolled": true
   },
   "outputs": [
    {
     "data": {
      "text/plain": [
       "index            Age\n",
       "Count_13           1\n",
       "Percentage_13    0.2\n",
       "Count_14           0\n",
       "Percentage_14      0\n",
       "decrease         0.2\n",
       "Name: 3, dtype: object"
      ]
     },
     "execution_count": 37,
     "metadata": {},
     "output_type": "execute_result"
    }
   ],
   "source": [
    "missingValue_14 = sdf.sumMissing(df).rename(columns={0: 'Count_14', 1: 'Percentage_14'})\n",
    "missingValue_14 = missingValue_14.reset_index()\n",
    "compare = sdf.compareDF(missingValue_13,missingValue_14)\n",
    "compare['decrease'] = compare['Percentage_13'] - compare['Percentage_14']\n",
    "compare.iloc[3]"
   ]
  },
  {
   "cell_type": "markdown",
   "metadata": {},
   "source": [
    "#### MileageAirline and Mileage"
   ]
  },
  {
   "cell_type": "markdown",
   "metadata": {},
   "source": [
    "Drop these two variables."
   ]
  },
  {
   "cell_type": "code",
   "execution_count": 38,
   "metadata": {},
   "outputs": [],
   "source": [
    "df = df.drop(columns = ['MileageAirline', 'Mileage'])"
   ]
  },
  {
   "cell_type": "markdown",
   "metadata": {},
   "source": [
    "#### Second Check for Missing Values"
   ]
  },
  {
   "cell_type": "markdown",
   "metadata": {},
   "source": [
    "No Missing Values in the data set after the cleaning. "
   ]
  },
  {
   "cell_type": "code",
   "execution_count": 39,
   "metadata": {},
   "outputs": [
    {
     "data": {
      "text/html": [
       "<div>\n",
       "<style scoped>\n",
       "    .dataframe tbody tr th:only-of-type {\n",
       "        vertical-align: middle;\n",
       "    }\n",
       "\n",
       "    .dataframe tbody tr th {\n",
       "        vertical-align: top;\n",
       "    }\n",
       "\n",
       "    .dataframe thead th {\n",
       "        text-align: right;\n",
       "    }\n",
       "</style>\n",
       "<table border=\"1\" class=\"dataframe\">\n",
       "  <thead>\n",
       "    <tr style=\"text-align: right;\">\n",
       "      <th></th>\n",
       "      <th>index</th>\n",
       "      <th>Count</th>\n",
       "      <th>Percentage</th>\n",
       "    </tr>\n",
       "  </thead>\n",
       "  <tbody>\n",
       "    <tr>\n",
       "      <th>0</th>\n",
       "      <td>ID</td>\n",
       "      <td>0</td>\n",
       "      <td>0.0</td>\n",
       "    </tr>\n",
       "    <tr>\n",
       "      <th>1</th>\n",
       "      <td>Airport</td>\n",
       "      <td>0</td>\n",
       "      <td>0.0</td>\n",
       "    </tr>\n",
       "    <tr>\n",
       "      <th>2</th>\n",
       "      <td>Airline</td>\n",
       "      <td>0</td>\n",
       "      <td>0.0</td>\n",
       "    </tr>\n",
       "    <tr>\n",
       "      <th>3</th>\n",
       "      <td>Age</td>\n",
       "      <td>0</td>\n",
       "      <td>0.0</td>\n",
       "    </tr>\n",
       "    <tr>\n",
       "      <th>4</th>\n",
       "      <td>Gender</td>\n",
       "      <td>0</td>\n",
       "      <td>0.0</td>\n",
       "    </tr>\n",
       "    <tr>\n",
       "      <th>5</th>\n",
       "      <td>Nationality</td>\n",
       "      <td>0</td>\n",
       "      <td>0.0</td>\n",
       "    </tr>\n",
       "    <tr>\n",
       "      <th>6</th>\n",
       "      <td>TripPurpose</td>\n",
       "      <td>0</td>\n",
       "      <td>0.0</td>\n",
       "    </tr>\n",
       "    <tr>\n",
       "      <th>7</th>\n",
       "      <td>TripDuration</td>\n",
       "      <td>0</td>\n",
       "      <td>0.0</td>\n",
       "    </tr>\n",
       "    <tr>\n",
       "      <th>8</th>\n",
       "      <td>FlyingCompanion</td>\n",
       "      <td>0</td>\n",
       "      <td>0.0</td>\n",
       "    </tr>\n",
       "    <tr>\n",
       "      <th>9</th>\n",
       "      <td>ProvinceResidence</td>\n",
       "      <td>0</td>\n",
       "      <td>0.0</td>\n",
       "    </tr>\n",
       "    <tr>\n",
       "      <th>10</th>\n",
       "      <td>GroupTravel</td>\n",
       "      <td>0</td>\n",
       "      <td>0.0</td>\n",
       "    </tr>\n",
       "    <tr>\n",
       "      <th>11</th>\n",
       "      <td>NoTripsLastYear</td>\n",
       "      <td>0</td>\n",
       "      <td>0.0</td>\n",
       "    </tr>\n",
       "    <tr>\n",
       "      <th>12</th>\n",
       "      <td>FrequentFlightDestination</td>\n",
       "      <td>0</td>\n",
       "      <td>0.0</td>\n",
       "    </tr>\n",
       "    <tr>\n",
       "      <th>13</th>\n",
       "      <td>Destination</td>\n",
       "      <td>0</td>\n",
       "      <td>0.0</td>\n",
       "    </tr>\n",
       "    <tr>\n",
       "      <th>14</th>\n",
       "      <td>FlightNo</td>\n",
       "      <td>0</td>\n",
       "      <td>0.0</td>\n",
       "    </tr>\n",
       "    <tr>\n",
       "      <th>15</th>\n",
       "      <td>DepartureHr</td>\n",
       "      <td>0</td>\n",
       "      <td>0.0</td>\n",
       "    </tr>\n",
       "    <tr>\n",
       "      <th>16</th>\n",
       "      <td>DepartureMn</td>\n",
       "      <td>0</td>\n",
       "      <td>0.0</td>\n",
       "    </tr>\n",
       "    <tr>\n",
       "      <th>17</th>\n",
       "      <td>DepartureTime</td>\n",
       "      <td>0</td>\n",
       "      <td>0.0</td>\n",
       "    </tr>\n",
       "    <tr>\n",
       "      <th>18</th>\n",
       "      <td>SeatClass</td>\n",
       "      <td>0</td>\n",
       "      <td>0.0</td>\n",
       "    </tr>\n",
       "    <tr>\n",
       "      <th>19</th>\n",
       "      <td>Airfare</td>\n",
       "      <td>0</td>\n",
       "      <td>0.0</td>\n",
       "    </tr>\n",
       "    <tr>\n",
       "      <th>20</th>\n",
       "      <td>NoTransport</td>\n",
       "      <td>0</td>\n",
       "      <td>0.0</td>\n",
       "    </tr>\n",
       "    <tr>\n",
       "      <th>21</th>\n",
       "      <td>ModeTransport</td>\n",
       "      <td>0</td>\n",
       "      <td>0.0</td>\n",
       "    </tr>\n",
       "    <tr>\n",
       "      <th>22</th>\n",
       "      <td>AccessCost</td>\n",
       "      <td>0</td>\n",
       "      <td>0.0</td>\n",
       "    </tr>\n",
       "    <tr>\n",
       "      <th>23</th>\n",
       "      <td>AccessTime</td>\n",
       "      <td>0</td>\n",
       "      <td>0.0</td>\n",
       "    </tr>\n",
       "    <tr>\n",
       "      <th>24</th>\n",
       "      <td>Occupation</td>\n",
       "      <td>0</td>\n",
       "      <td>0.0</td>\n",
       "    </tr>\n",
       "    <tr>\n",
       "      <th>25</th>\n",
       "      <td>Income</td>\n",
       "      <td>0</td>\n",
       "      <td>0.0</td>\n",
       "    </tr>\n",
       "  </tbody>\n",
       "</table>\n",
       "</div>"
      ],
      "text/plain": [
       "                        index  Count  Percentage\n",
       "0                          ID      0         0.0\n",
       "1                     Airport      0         0.0\n",
       "2                     Airline      0         0.0\n",
       "3                         Age      0         0.0\n",
       "4                      Gender      0         0.0\n",
       "5                 Nationality      0         0.0\n",
       "6                 TripPurpose      0         0.0\n",
       "7                TripDuration      0         0.0\n",
       "8             FlyingCompanion      0         0.0\n",
       "9           ProvinceResidence      0         0.0\n",
       "10                GroupTravel      0         0.0\n",
       "11            NoTripsLastYear      0         0.0\n",
       "12  FrequentFlightDestination      0         0.0\n",
       "13                Destination      0         0.0\n",
       "14                   FlightNo      0         0.0\n",
       "15                DepartureHr      0         0.0\n",
       "16                DepartureMn      0         0.0\n",
       "17              DepartureTime      0         0.0\n",
       "18                  SeatClass      0         0.0\n",
       "19                    Airfare      0         0.0\n",
       "20                NoTransport      0         0.0\n",
       "21              ModeTransport      0         0.0\n",
       "22                 AccessCost      0         0.0\n",
       "23                 AccessTime      0         0.0\n",
       "24                 Occupation      0         0.0\n",
       "25                     Income      0         0.0"
      ]
     },
     "execution_count": 39,
     "metadata": {},
     "output_type": "execute_result"
    }
   ],
   "source": [
    "missingValue = sdf.sumMissing(df).rename(columns={0: 'Count', 1: 'Percentage'})\n",
    "missingValue = missingValue.reset_index()\n",
    "missingValue"
   ]
  },
  {
   "cell_type": "code",
   "execution_count": 40,
   "metadata": {},
   "outputs": [
    {
     "data": {
      "image/png": "[encoded data removed]",
      "text/plain": [
       "<Figure size 842.4x595.44 with 1 Axes>"
      ]
     },
     "metadata": {
      "needs_background": "light"
     },
     "output_type": "display_data"
    }
   ],
   "source": [
    "sdf.horzBarPlot(missingValue,'Percentage','index')"
   ]
  },
  {
   "cell_type": "code",
   "execution_count": null,
   "metadata": {},
   "outputs": [],
   "source": [
    "df['FlightNo']=df['FlightNo'].str.upper()"
   ]
  },
  {
   "cell_type": "code",
   "execution_count": 41,
   "metadata": {},
   "outputs": [],
   "source": [
    "df.to_csv(\"../data/df_Shuai.csv\")"
   ]
  },
  {
   "cell_type": "markdown",
   "metadata": {},
   "source": [
    "## Data Type"
   ]
  },
  {
   "cell_type": "markdown",
   "metadata": {},
   "source": [
    "### Preview Data Type"
   ]
  },
  {
   "cell_type": "code",
   "execution_count": 42,
   "metadata": {},
   "outputs": [
    {
     "data": {
      "text/plain": [
       "ID                             int64\n",
       "Airport                        int64\n",
       "Airline                       object\n",
       "Age                          float64\n",
       "Gender                        object\n",
       "Nationality                    int64\n",
       "TripPurpose                    int64\n",
       "TripDuration                   int64\n",
       "FlyingCompanion                int64\n",
       "ProvinceResidence              int64\n",
       "GroupTravel                    int64\n",
       "NoTripsLastYear                int64\n",
       "FrequentFlightDestination     object\n",
       "Destination                   object\n",
       "FlightNo                      object\n",
       "DepartureHr                    int64\n",
       "DepartureMn                    int64\n",
       "DepartureTime                  int64\n",
       "SeatClass                    float64\n",
       "Airfare                      float64\n",
       "NoTransport                    int64\n",
       "ModeTransport                  int64\n",
       "AccessCost                   float64\n",
       "AccessTime                   float64\n",
       "Occupation                     int64\n",
       "Income                       float64\n",
       "dtype: object"
      ]
     },
     "execution_count": 42,
     "metadata": {},
     "output_type": "execute_result"
    }
   ],
   "source": [
    "df.dtypes"
   ]
  },
  {
   "cell_type": "markdown",
   "metadata": {},
   "source": [
    "### Princple for Converting Data Type\n",
    "\n",
    "__object:__ ID  \n",
    "__int64:__  Age, TripDuration, FlyingCompanion, NoTripsLastYear, NoTransport  \n",
    "__float64:__  DepartureHr, DepartureMn, Airfare, AccessCost, AccessTime  \n",
    "__category:__ Airport, Airline, Gender, Nationality, TripPurpose, ProvinceResidence, GroupTravel, FrequentFlightDestination, Destination, FlightNo, DepartureTime, SeatClass, ModeTransport, Occupation, Income"
   ]
  },
  {
   "cell_type": "markdown",
   "metadata": {},
   "source": [
    "### Convert Data Type"
   ]
  },
  {
   "cell_type": "code",
   "execution_count": 43,
   "metadata": {},
   "outputs": [],
   "source": [
    "df['ID'] = df['ID'].astype('object')"
   ]
  },
  {
   "cell_type": "code",
   "execution_count": 44,
   "metadata": {},
   "outputs": [],
   "source": [
    "for i in ['Age','TripDuration', 'FlyingCompanion', 'NoTripsLastYear', 'NoTransport']:\n",
    "    df[i] = df[i].astype('int64')"
   ]
  },
  {
   "cell_type": "code",
   "execution_count": 45,
   "metadata": {},
   "outputs": [],
   "source": [
    "for i in ['DepartureHr', 'DepartureMn', 'Airfare', 'AccessCost', 'AccessTime']:\n",
    "    df[i] = df[i].astype('float64')"
   ]
  },
  {
   "cell_type": "code",
   "execution_count": 46,
   "metadata": {},
   "outputs": [],
   "source": [
    "for i in ['Airport', 'Airline', 'Gender', 'Nationality', 'TripPurpose', 'ProvinceResidence', 'GroupTravel', 'FrequentFlightDestination', 'Destination', 'FlightNo', 'DepartureTime', 'SeatClass', 'ModeTransport', 'Occupation', 'Income']:\n",
    "    df[i] = df[i].astype('category')"
   ]
  },
  {
   "cell_type": "code",
   "execution_count": 47,
   "metadata": {},
   "outputs": [
    {
     "data": {
      "text/plain": [
       "ID                             object\n",
       "Airport                      category\n",
       "Airline                      category\n",
       "Age                             int64\n",
       "Gender                       category\n",
       "Nationality                  category\n",
       "TripPurpose                  category\n",
       "TripDuration                    int64\n",
       "FlyingCompanion                 int64\n",
       "ProvinceResidence            category\n",
       "GroupTravel                  category\n",
       "NoTripsLastYear                 int64\n",
       "FrequentFlightDestination    category\n",
       "Destination                  category\n",
       "FlightNo                     category\n",
       "DepartureHr                   float64\n",
       "DepartureMn                   float64\n",
       "DepartureTime                category\n",
       "SeatClass                    category\n",
       "Airfare                       float64\n",
       "NoTransport                     int64\n",
       "ModeTransport                category\n",
       "AccessCost                    float64\n",
       "AccessTime                    float64\n",
       "Occupation                   category\n",
       "Income                       category\n",
       "dtype: object"
      ]
     },
     "execution_count": 47,
     "metadata": {},
     "output_type": "execute_result"
    }
   ],
   "source": [
    "df.dtypes"
   ]
  },
  {
   "cell_type": "markdown",
   "metadata": {},
   "source": [
    "## Main Questions "
   ]
  },
  {
   "cell_type": "markdown",
   "metadata": {},
   "source": [
    "1. How many records are from ICN and GMP? \n",
    "2. How many airline companies in this data set. "
   ]
  },
  {
   "cell_type": "markdown",
   "metadata": {},
   "source": [
    "### Q1: Airport"
   ]
  },
  {
   "cell_type": "markdown",
   "metadata": {},
   "source": [
    "Airport:  \n",
    "GMP: 248  \n",
    "ICN: 240"
   ]
  },
  {
   "cell_type": "code",
   "execution_count": 50,
   "metadata": {},
   "outputs": [
    {
     "data": {
      "text/plain": [
       "2    248\n",
       "1    240\n",
       "Name: Airport, dtype: int64"
      ]
     },
     "execution_count": 50,
     "metadata": {},
     "output_type": "execute_result"
    }
   ],
   "source": [
    "df.Airport.value_counts()"
   ]
  },
  {
   "cell_type": "code",
   "execution_count": 60,
   "metadata": {
    "scrolled": false
   },
   "outputs": [
    {
     "data": {
      "text/plain": [
       "Text(0.5, 0, 'Airport Choice')"
      ]
     },
     "execution_count": 60,
     "metadata": {},
     "output_type": "execute_result"
    },
    {
     "data": {
      "image/png": "[encoded data removed]",
      "text/plain": [
       "<Figure size 842.4x595.44 with 1 Axes>"
      ]
     },
     "metadata": {
      "needs_background": "light"
     },
     "output_type": "display_data"
    }
   ],
   "source": [
    "a4_dims = (11.7, 8.27)\n",
    "fig, ax = plt.subplots(figsize=a4_dims)\n",
    "ax = sns.countplot(x=\"Airport\", data=df).set_xticklabels([\"ICN\",\"GMP\"])\n",
    "plt.title('Records from Two Airports')\n",
    "plt.xlabel('Airport Choice')"
   ]
  },
  {
   "cell_type": "markdown",
   "metadata": {},
   "source": [
    "### Q2: Airline"
   ]
  },
  {
   "cell_type": "code",
   "execution_count": 59,
   "metadata": {},
   "outputs": [
    {
     "data": {
      "text/plain": [
       "Text(0.5, 0, 'Airline Companies')"
      ]
     },
     "execution_count": 59,
     "metadata": {},
     "output_type": "execute_result"
    },
    {
     "data": {
      "image/png": "[encoded data removed]",
      "text/plain": [
       "<Figure size 842.4x595.44 with 1 Axes>"
      ]
     },
     "metadata": {
      "needs_background": "light"
     },
     "output_type": "display_data"
    }
   ],
   "source": [
    "a4_dims = (11.7, 8.27)\n",
    "fig, ax = plt.subplots(figsize=a4_dims)\n",
    "ax = sns.countplot(x=\"Airline\", data=df).set_xticklabels([\"Korean Air\",\"Asiana Airlines\", \"Korean LCC\", \"Foreign Airlines\", \"No Response\"])\n",
    "plt.title('Records of Airline Companies')\n",
    "plt.xlabel('Airline Companies')"
   ]
  },
  {
   "cell_type": "markdown",
   "metadata": {},
   "source": [
    "## EDA  \n",
    "\n",
    "The EDA will be guided by following questions: \n",
    "1. In this data set, what's distribution of records departing from ICN and GMP?  \n"
   ]
  },
  {
   "cell_type": "code",
   "execution_count": null,
   "metadata": {},
   "outputs": [],
   "source": [
    "df['Airport'] = df['Airport'].replace(1, \"ICN\")\n",
    "df['Airport'] = df['Airport'].replace(2, \"GMP\")\n",
    "df2 = pd.get_dummies(df['Airport'],prefix=['Airport'])"
   ]
  },
  {
   "cell_type": "code",
   "execution_count": null,
   "metadata": {},
   "outputs": [],
   "source": [
    "df2"
   ]
  },
  {
   "cell_type": "code",
   "execution_count": null,
   "metadata": {},
   "outputs": [],
   "source": [
    "df['FlightTime'] = df['DepartureHr'].map(str)+\":\"+df['DepartureMn'].map(str)"
   ]
  },
  {
   "cell_type": "code",
   "execution_count": null,
   "metadata": {
    "scrolled": true
   },
   "outputs": [],
   "source": [
    "pd.options.display.max_columns = None\n",
    "display(df)"
   ]
  },
  {
   "cell_type": "code",
   "execution_count": null,
   "metadata": {},
   "outputs": [],
   "source": [
    "pd.Series(df.FlightTime.values,index=df.FlightNo).to_dict()"
   ]
  },
  {
   "cell_type": "code",
   "execution_count": null,
   "metadata": {
    "scrolled": true
   },
   "outputs": [],
   "source": [
    "pd.Series(df.FlightNo.values,index=df.FlightInfo).to_dict()"
   ]
  },
  {
   "cell_type": "code",
   "execution_count": null,
   "metadata": {},
   "outputs": [],
   "source": [
    "from IPython.display import HTML\n",
    "def View(df):\n",
    "    css = \"\"\"<style>\n",
    "    table { border-collapse: collapse; border: 3px solid #eee; }\n",
    "    table tr th:first-child { background-color: #eeeeee; color: #333; font-weight: bold }\n",
    "    table thead th { background-color: #eee; color: #000; }\n",
    "    tr, th, td { border: 1px solid #ccc; border-width: 1px 0 0 1px; border-collapse: collapse;\n",
    "    padding: 3px; font-family: monospace; font-size: 10px }</style>\n",
    "    \"\"\"\n",
    "    s  = '<script type=\"text/Javascript\">'\n",
    "    s += 'var win = window.open(\"\", \"Title\", \"toolbar=no, location=no, directories=no, status=no, menubar=no, scrollbars=yes, resizable=yes, width=780, height=200, top=\"+(screen.height-400)+\", left=\"+(screen.width-840));'\n",
    "    s += 'win.document.body.innerHTML = \\'' + (df.to_html() + css).replace(\"\\n\",'\\\\') + '\\';'\n",
    "    s += '</script>'\n",
    "    return(HTML(s+css))\n",
    "\n",
    "View(df)"
   ]
  }
 ],
 "metadata": {
  "kernelspec": {
   "display_name": "Python 3",
   "language": "python",
   "name": "python3"
  },
  "language_info": {
   "codemirror_mode": {
    "name": "ipython",
    "version": 3
   },
   "file_extension": ".py",
   "mimetype": "text/x-python",
   "name": "python",
   "nbconvert_exporter": "python",
   "pygments_lexer": "ipython3",
   "version": "3.7.3"
  },
  "toc": {
   "base_numbering": 1,
   "nav_menu": {},
   "number_sections": true,
   "sideBar": true,
   "skip_h1_title": false,
   "title_cell": "Table of Contents",
   "title_sidebar": "Contents",
   "toc_cell": false,
   "toc_position": {
    "height": "calc(100% - 180px)",
    "left": "10px",
    "top": "150px",
    "width": "339.6px"
   },
   "toc_section_display": true,
   "toc_window_display": true
  },
  "varInspector": {
   "cols": {
    "lenName": 16,
    "lenType": 16,
    "lenVar": 40
   },
   "kernels_config": {
    "python": {
     "delete_cmd_postfix": "",
     "delete_cmd_prefix": "del ",
     "library": "var_list.py",
     "varRefreshCmd": "print(var_dic_list())"
    },
    "r": {
     "delete_cmd_postfix": ") ",
     "delete_cmd_prefix": "rm(",
     "library": "var_list.r",
     "varRefreshCmd": "cat(var_dic_list()) "
    }
   },
   "position": {
    "height": "432.85px",
    "left": "1164.4px",
    "right": "20px",
    "top": "120px",
    "width": "350px"
   },
   "types_to_exclude": [
    "module",
    "function",
    "builtin_function_or_method",
    "instance",
    "_Feature"
   ],
   "window_display": false
  }
 },
 "nbformat": 4,
 "nbformat_minor": 2
}
