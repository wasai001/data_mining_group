{
 "cells": [
  {
   "cell_type": "code",
   "execution_count": 15,
   "metadata": {},
   "outputs": [],
   "source": [
    "import pandas as pd\n",
    "import seaborn as sns\n",
    "import matplotlib.pyplot as plt\n",
    "import numpy as np"
   ]
  },
  {
   "cell_type": "markdown",
   "metadata": {},
   "source": [
    "### Load the data"
   ]
  },
  {
   "cell_type": "code",
   "execution_count": 2,
   "metadata": {},
   "outputs": [],
   "source": [
    "df = pd.read_csv('../data/airport_choice_survey_practice_Shuai.csv')"
   ]
  },
  {
   "cell_type": "markdown",
   "metadata": {},
   "source": [
    "### Preview the data type"
   ]
  },
  {
   "cell_type": "code",
   "execution_count": 3,
   "metadata": {},
   "outputs": [
    {
     "data": {
      "text/plain": [
       "ID                             int64\n",
       "Airport                        int64\n",
       "Airline                      float64\n",
       "Age                          float64\n",
       "Gender                       float64\n",
       "Nationality                    int64\n",
       "TripPurpose                    int64\n",
       "TripDuration                   int64\n",
       "FlyingCompanion                int64\n",
       "ProvinceResidence              int64\n",
       "GroupTravel                    int64\n",
       "NoTripsLastYear                int64\n",
       "FrequentFlightDestination     object\n",
       "Destination                  float64\n",
       "FlightNo                      object\n",
       "DepartureHr                  float64\n",
       "DepartureMn                  float64\n",
       "DepartureTime                  int64\n",
       "SeatClass                    float64\n",
       "Airfare                      float64\n",
       "NoTransport                    int64\n",
       "ModeTransport                  int64\n",
       "AccessCost                   float64\n",
       "AccessTime                   float64\n",
       "Occupation                     int64\n",
       "Income                       float64\n",
       "MileageAirline                object\n",
       "Mileage                      float64\n",
       "dtype: object"
      ]
     },
     "execution_count": 3,
     "metadata": {},
     "output_type": "execute_result"
    }
   ],
   "source": [
    "df.dtypes"
   ]
  },
  {
   "cell_type": "markdown",
   "metadata": {},
   "source": [
    "### Check the missing value for each field"
   ]
  },
  {
   "cell_type": "code",
   "execution_count": 4,
   "metadata": {},
   "outputs": [
    {
     "data": {
      "text/plain": [
       "ID                             0\n",
       "Airport                        0\n",
       "Airline                       10\n",
       "Age                            1\n",
       "Gender                         3\n",
       "Nationality                    0\n",
       "TripPurpose                    0\n",
       "TripDuration                   0\n",
       "FlyingCompanion                0\n",
       "ProvinceResidence              0\n",
       "GroupTravel                    0\n",
       "NoTripsLastYear                0\n",
       "FrequentFlightDestination      0\n",
       "Destination                    5\n",
       "FlightNo                     142\n",
       "DepartureHr                   34\n",
       "DepartureMn                  120\n",
       "DepartureTime                  0\n",
       "SeatClass                      4\n",
       "Airfare                      155\n",
       "NoTransport                    0\n",
       "ModeTransport                  0\n",
       "AccessCost                   197\n",
       "AccessTime                    97\n",
       "Occupation                     0\n",
       "Income                       132\n",
       "MileageAirline               237\n",
       "Mileage                      398\n",
       "dtype: int64"
      ]
     },
     "execution_count": 4,
     "metadata": {},
     "output_type": "execute_result"
    }
   ],
   "source": [
    "# Numbers of missing value\n",
    "df.isnull().sum()\n",
    "# The columns with NA cannot convert to Int64"
   ]
  },
  {
   "cell_type": "code",
   "execution_count": 5,
   "metadata": {},
   "outputs": [
    {
     "data": {
      "text/plain": [
       "ID                            0.00\n",
       "Airport                       0.00\n",
       "Airline                       2.05\n",
       "Age                           0.20\n",
       "Gender                        0.61\n",
       "Nationality                   0.00\n",
       "TripPurpose                   0.00\n",
       "TripDuration                  0.00\n",
       "FlyingCompanion               0.00\n",
       "ProvinceResidence             0.00\n",
       "GroupTravel                   0.00\n",
       "NoTripsLastYear               0.00\n",
       "FrequentFlightDestination     0.00\n",
       "Destination                   1.02\n",
       "FlightNo                     29.10\n",
       "DepartureHr                   6.97\n",
       "DepartureMn                  24.59\n",
       "DepartureTime                 0.00\n",
       "SeatClass                     0.82\n",
       "Airfare                      31.76\n",
       "NoTransport                   0.00\n",
       "ModeTransport                 0.00\n",
       "AccessCost                   40.37\n",
       "AccessTime                   19.88\n",
       "Occupation                    0.00\n",
       "Income                       27.05\n",
       "MileageAirline               48.57\n",
       "Mileage                      81.56\n",
       "dtype: float64"
      ]
     },
     "execution_count": 5,
     "metadata": {},
     "output_type": "execute_result"
    }
   ],
   "source": [
    "# Percentage of missing values\n",
    "df.isna().mean().round(4) * 100"
   ]
  },
  {
   "cell_type": "markdown",
   "metadata": {},
   "source": [
    "### convert the data type\n",
    "\n",
    "__object:__ ID  \n",
    "__int64:__  TripDuration, FlyingCompanion, NoTripsLastYear, NoTransport  \n",
    "__float64:__ Age, DepartureHr, DepartureMn, Airfare, AccessCost, AccessTime, Mileage  \n",
    "__bool:__  \n",
    "__category:__ Airport, Airline, Gender, Nationality, TripPurpose, ProvinceResidence, GroupTravel, FrequentFlightDestination, Destination, FlightNo, DepartureTime, SeatClass, ModeTransport, Occupation, Income, MileageAirline"
   ]
  },
  {
   "cell_type": "code",
   "execution_count": 6,
   "metadata": {},
   "outputs": [],
   "source": [
    "df['ID'] = df['ID'].astype('object')"
   ]
  },
  {
   "cell_type": "code",
   "execution_count": 7,
   "metadata": {},
   "outputs": [],
   "source": [
    "for i in ['TripDuration', 'FlyingCompanion', 'NoTripsLastYear', 'NoTransport']:\n",
    "    df[i] = df[i].astype('int64')"
   ]
  },
  {
   "cell_type": "code",
   "execution_count": 8,
   "metadata": {},
   "outputs": [],
   "source": [
    "for i in ['Age', 'DepartureHr', 'DepartureMn', 'Airfare', 'AccessCost', 'AccessTime', 'Mileage']:\n",
    "    df[i] = df[i].astype('float64')"
   ]
  },
  {
   "cell_type": "code",
   "execution_count": 9,
   "metadata": {},
   "outputs": [],
   "source": [
    "for i in ['Airport', 'Airline', 'Gender', 'Nationality', 'TripPurpose', 'ProvinceResidence', 'GroupTravel', 'FrequentFlightDestination', 'Destination', 'FlightNo', 'DepartureTime', 'SeatClass', 'ModeTransport', 'Occupation', 'Income', 'MileageAirline']:\n",
    "    df[i] = df[i].astype('category')"
   ]
  },
  {
   "cell_type": "code",
   "execution_count": 10,
   "metadata": {},
   "outputs": [
    {
     "data": {
      "text/plain": [
       "ID                             object\n",
       "Airport                      category\n",
       "Airline                      category\n",
       "Age                           float64\n",
       "Gender                       category\n",
       "Nationality                  category\n",
       "TripPurpose                  category\n",
       "TripDuration                    int64\n",
       "FlyingCompanion                 int64\n",
       "ProvinceResidence            category\n",
       "GroupTravel                  category\n",
       "NoTripsLastYear                 int64\n",
       "FrequentFlightDestination    category\n",
       "Destination                  category\n",
       "FlightNo                     category\n",
       "DepartureHr                   float64\n",
       "DepartureMn                   float64\n",
       "DepartureTime                category\n",
       "SeatClass                    category\n",
       "Airfare                       float64\n",
       "NoTransport                     int64\n",
       "ModeTransport                category\n",
       "AccessCost                    float64\n",
       "AccessTime                    float64\n",
       "Occupation                   category\n",
       "Income                       category\n",
       "MileageAirline               category\n",
       "Mileage                       float64\n",
       "dtype: object"
      ]
     },
     "execution_count": 10,
     "metadata": {},
     "output_type": "execute_result"
    }
   ],
   "source": [
    "df.dtypes"
   ]
  },
  {
   "cell_type": "markdown",
   "metadata": {},
   "source": [
    "### Data wrangling principles\n",
    "Error value:  \n",
    "(1) Error value of W7667 in the field of \"DepartureHR\" of \"ID 399\". Correct this record by moving W7667 into \"FlightNo\"  \n",
    "Missing Value:   \n",
    "(2) The missing values of following fields will be replaced with mode number  \n",
    "(3) The missing values of following fields will be replaced with zero  \n",
    "(4) The following fields will be removed because too many missing values and also it is not related to the traveler's choice.   \n",
    "    - MileageAirline \n",
    "    - Mileage"
   ]
  },
  {
   "cell_type": "code",
   "execution_count": 11,
   "metadata": {},
   "outputs": [
    {
     "data": {
      "text/plain": [
       "pandas.core.series.Series"
      ]
     },
     "execution_count": 11,
     "metadata": {},
     "output_type": "execute_result"
    }
   ],
   "source": [
    "miss = df.isnull().sum()\n",
    "type(miss)"
   ]
  },
  {
   "cell_type": "code",
   "execution_count": 12,
   "metadata": {},
   "outputs": [],
   "source": [
    "# Convert to dummies\n",
    "# df2 = pd.get_dummies(df['Airport'], prefix=['Airport'])\n",
    "# df3 = df.join(df2, how='outer')"
   ]
  },
  {
   "cell_type": "code",
   "execution_count": 13,
   "metadata": {},
   "outputs": [
    {
     "name": "stdout",
     "output_type": "stream",
     "text": [
      "<class 'pandas.core.frame.DataFrame'>\n",
      "RangeIndex: 488 entries, 0 to 487\n",
      "Data columns (total 28 columns):\n",
      "ID                           488 non-null object\n",
      "Airport                      488 non-null category\n",
      "Airline                      478 non-null category\n",
      "Age                          487 non-null float64\n",
      "Gender                       485 non-null category\n",
      "Nationality                  488 non-null category\n",
      "TripPurpose                  488 non-null category\n",
      "TripDuration                 488 non-null int64\n",
      "FlyingCompanion              488 non-null int64\n",
      "ProvinceResidence            488 non-null category\n",
      "GroupTravel                  488 non-null category\n",
      "NoTripsLastYear              488 non-null int64\n",
      "FrequentFlightDestination    488 non-null category\n",
      "Destination                  483 non-null category\n",
      "FlightNo                     346 non-null category\n",
      "DepartureHr                  454 non-null float64\n",
      "DepartureMn                  368 non-null float64\n",
      "DepartureTime                488 non-null category\n",
      "SeatClass                    484 non-null category\n",
      "Airfare                      333 non-null float64\n",
      "NoTransport                  488 non-null int64\n",
      "ModeTransport                488 non-null category\n",
      "AccessCost                   291 non-null float64\n",
      "AccessTime                   391 non-null float64\n",
      "Occupation                   488 non-null category\n",
      "Income                       356 non-null category\n",
      "MileageAirline               251 non-null category\n",
      "Mileage                      90 non-null float64\n",
      "dtypes: category(16), float64(7), int64(4), object(1)\n",
      "memory usage: 64.3+ KB\n"
     ]
    }
   ],
   "source": [
    "df.info()"
   ]
  },
  {
   "cell_type": "markdown",
   "metadata": {},
   "source": [
    "### EDA  \n",
    "\n",
    "The EDA will be guided by following questions: \n",
    "1. In this data set, what's distribution of records departing from ICN and GMP?  \n"
   ]
  },
  {
   "cell_type": "code",
   "execution_count": 34,
   "metadata": {},
   "outputs": [
    {
     "data": {
      "text/plain": [
       "<matplotlib.axes._subplots.AxesSubplot at 0x1688bd5a2e8>"
      ]
     },
     "execution_count": 34,
     "metadata": {},
     "output_type": "execute_result"
    },
    {
     "data": {
      "image/png": "[encoded data removed]",
      "text/plain": [
       "<Figure size 432x288 with 1 Axes>"
      ]
     },
     "metadata": {
      "needs_background": "light"
     },
     "output_type": "display_data"
    }
   ],
   "source": [
    "sns.countplot(x=\"Airport\", data=df)"
   ]
  },
  {
   "cell_type": "code",
   "execution_count": 30,
   "metadata": {},
   "outputs": [
    {
     "data": {
      "image/png": "[encoded data removed]",
      "text/plain": [
       "<Figure size 648x216 with 3 Axes>"
      ]
     },
     "metadata": {
      "needs_background": "light"
     },
     "output_type": "display_data"
    }
   ],
   "source": [
    "names = ['group_a', 'group_b', 'group_c']\n",
    "values = [1, 10, 100]\n",
    "\n",
    "plt.figure(1, figsize=(9, 3))\n",
    "\n",
    "plt.subplot(131)\n",
    "plt.bar(names, values)\n",
    "plt.subplot(132)\n",
    "plt.scatter(names, values)\n",
    "plt.subplot(133)\n",
    "plt.plot(names, values)\n",
    "plt.suptitle('Categorical Plotting')\n",
    "plt.show()"
   ]
  }
 ],
 "metadata": {
  "kernelspec": {
   "display_name": "Python 3",
   "language": "python",
   "name": "python3"
  },
  "language_info": {
   "codemirror_mode": {
    "name": "ipython",
    "version": 3
   },
   "file_extension": ".py",
   "mimetype": "text/x-python",
   "name": "python",
   "nbconvert_exporter": "python",
   "pygments_lexer": "ipython3",
   "version": "3.7.3"
  },
  "varInspector": {
   "cols": {
    "lenName": 16,
    "lenType": 16,
    "lenVar": 40
   },
   "kernels_config": {
    "python": {
     "delete_cmd_postfix": "",
     "delete_cmd_prefix": "del ",
     "library": "var_list.py",
     "varRefreshCmd": "print(var_dic_list())"
    },
    "r": {
     "delete_cmd_postfix": ") ",
     "delete_cmd_prefix": "rm(",
     "library": "var_list.r",
     "varRefreshCmd": "cat(var_dic_list()) "
    }
   },
   "position": {
    "height": "432.85px",
    "left": "1164.4px",
    "right": "20px",
    "top": "120px",
    "width": "350px"
   },
   "types_to_exclude": [
    "module",
    "function",
    "builtin_function_or_method",
    "instance",
    "_Feature"
   ],
   "window_display": false
  }
 },
 "nbformat": 4,
 "nbformat_minor": 2
}
